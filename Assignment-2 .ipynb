{
 "cells": [
  {
   "cell_type": "code",
   "execution_count": 2,
   "id": "8915b40d",
   "metadata": {},
   "outputs": [],
   "source": [
    "#1 Write a program to accept two numbers from the user and calculate multiplication, division"
   ]
  },
  {
   "cell_type": "code",
   "execution_count": 1,
   "id": "e36a5570",
   "metadata": {},
   "outputs": [
    {
     "name": "stdout",
     "output_type": "stream",
     "text": [
      "Enter a number:1\n",
      "Enter a number:2\n",
      "Enter a symbol * / :*\n",
      "1*2=2\n"
     ]
    }
   ],
   "source": [
    "num1=int(input(\"Enter a number:\"))\n",
    "num2=int(input(\"Enter a number:\"))\n",
    "symbol=input(\"Enter a symbol * / :\")\n",
    "if symbol==\"*\":\n",
    "    print(\"{}*{}={}\".format(num1,num2,num1*num2))\n",
    "elif symbol==\"/\":\n",
    "    print(\"{}/{}={}\".format(num1,num2,num1/num2))\n",
    "else:\n",
    "    print(\"Go and check the symbol please\")"
   ]
  },
  {
   "cell_type": "code",
   "execution_count": null,
   "id": "3e6eda6c",
   "metadata": {},
   "outputs": [],
   "source": [
    "#2 Write a python program to print the characters from a string that are present at an even index "
   ]
  },
  {
   "cell_type": "code",
   "execution_count": 6,
   "id": "7342aa68",
   "metadata": {},
   "outputs": [
    {
     "name": "stdout",
     "output_type": "stream",
     "text": [
      "Enter a string:Munna\n",
      "M\n",
      "n\n",
      "a\n"
     ]
    }
   ],
   "source": [
    "str1=input(\"Enter a string:\")\n",
    "for i in range(len(str1)):\n",
    "    if i%2==0:\n",
    "        print(str1[i])\n",
    "        "
   ]
  },
  {
   "cell_type": "code",
   "execution_count": 7,
   "id": "729aa36c",
   "metadata": {},
   "outputs": [],
   "source": [
    "#3 Write a python program to print the characters from a string that are present at an odd index"
   ]
  },
  {
   "cell_type": "code",
   "execution_count": 9,
   "id": "b20417dd",
   "metadata": {},
   "outputs": [
    {
     "name": "stdout",
     "output_type": "stream",
     "text": [
      "Enter a string:Muzzi\n",
      "u\n",
      "z\n"
     ]
    }
   ],
   "source": [
    "str2=input(\"Enter a string:\")\n",
    "for i in range(len(str2)):\n",
    "    if i%2!=0:\n",
    "        print(str2[i])"
   ]
  },
  {
   "cell_type": "code",
   "execution_count": 10,
   "id": "5c53d87f",
   "metadata": {},
   "outputs": [],
   "source": [
    "#4 Write a python program which will print the sum of the two numbers if the two numbers are even or it will print the difference of two numbers\n"
   ]
  },
  {
   "cell_type": "code",
   "execution_count": 14,
   "id": "fc92ea46",
   "metadata": {},
   "outputs": [
    {
     "name": "stdout",
     "output_type": "stream",
     "text": [
      "Enter a number:1\n",
      "Enter a number:1\n",
      "1-1=0\n"
     ]
    }
   ],
   "source": [
    "num1=int(input(\"Enter a number:\"))\n",
    "num2=int(input(\"Enter a number:\"))\n",
    "if num1%2==0 and num2%2==0:\n",
    "    print(\"{}+{}={}\".format(num1,num2,num1+num2))\n",
    "else:\n",
    "    print(\"{}-{}={}\".format(num1,num2,num1-num2))"
   ]
  },
  {
   "cell_type": "code",
   "execution_count": 2,
   "id": "2c31c70e",
   "metadata": {},
   "outputs": [],
   "source": [
    "# 5 Write a python program to convert all even indexed alphabets to upper and odd indexed alphabets to lower"
   ]
  },
  {
   "cell_type": "code",
   "execution_count": 3,
   "id": "6cb147eb",
   "metadata": {},
   "outputs": [
    {
     "name": "stdout",
     "output_type": "stream",
     "text": [
      "Enter a string:Munaaf\n",
      "MuNaAf\n"
     ]
    }
   ],
   "source": [
    "str1=input(\"Enter a string:\")\n",
    "str2=\"\"\n",
    "for i in range(len(str1)):\n",
    "    if i%2==0:\n",
    "        str2=str2+str1[i].upper()\n",
    "    else:\n",
    "        str2=str2+str1[i].lower()\n",
    "print(str2)"
   ]
  },
  {
   "cell_type": "code",
   "execution_count": 15,
   "id": "6140293e",
   "metadata": {},
   "outputs": [],
   "source": [
    "#6 Write a python program which will print True if the input number is divisible by 5 or else False"
   ]
  },
  {
   "cell_type": "code",
   "execution_count": 18,
   "id": "d7d68fef",
   "metadata": {},
   "outputs": [
    {
     "name": "stdout",
     "output_type": "stream",
     "text": [
      "Enter a number:45\n",
      "True\n"
     ]
    }
   ],
   "source": [
    "num1=int(input(\"Enter a number:\"))\n",
    "if num1%5==0:\n",
    "    print(\"True\")\n",
    "else:\n",
    "    print(\"False\")"
   ]
  },
  {
   "cell_type": "code",
   "execution_count": 19,
   "id": "9e351f5b",
   "metadata": {},
   "outputs": [],
   "source": [
    "#7 Given two integer numbers return their product only if the product is greater than 1000, else return their sum\n"
   ]
  },
  {
   "cell_type": "code",
   "execution_count": 21,
   "id": "2cb2218f",
   "metadata": {},
   "outputs": [
    {
     "name": "stdout",
     "output_type": "stream",
     "text": [
      "Enter a number:10\n",
      "Enter a number:20\n",
      "10+20=30\n"
     ]
    }
   ],
   "source": [
    "num1=int(input(\"Enter a number:\"))\n",
    "num2=int(input(\"Enter a number:\"))\n",
    "if num1*num2>1000:\n",
    "    print(\"{}*{}={}\".format(num1,num2,num1*num2))\n",
    "else:\n",
    "    print(\"{}+{}={}\".format(num1,num2,num1+num2))"
   ]
  },
  {
   "cell_type": "code",
   "execution_count": 22,
   "id": "4ebe46eb",
   "metadata": {},
   "outputs": [],
   "source": [
    "#8 Given two strings x, y writes a program to return a new string made of x and y’s first, middle, and last characters"
   ]
  },
  {
   "cell_type": "code",
   "execution_count": 24,
   "id": "c14cb62a",
   "metadata": {},
   "outputs": [
    {
     "name": "stdout",
     "output_type": "stream",
     "text": [
      "Enter a string:Pytho\n",
      "Enter a string:Javas\n",
      "PJtvos\n"
     ]
    }
   ],
   "source": [
    "str1=input(\"Enter a string:\")\n",
    "str2=input(\"Enter a string:\")\n",
    "center1=len(str1)//2\n",
    "center2=len(str2)//2\n",
    "print(str1[0]+str2[0]+str1[center1]+str2[center2]+str1[-1]+str2[-1])"
   ]
  },
  {
   "cell_type": "code",
   "execution_count": 25,
   "id": "6b158036",
   "metadata": {},
   "outputs": [],
   "source": [
    "#9 Write a python program to take three names as input from a user in the single input () function call\n"
   ]
  },
  {
   "cell_type": "code",
   "execution_count": 2,
   "id": "d3f047d1",
   "metadata": {},
   "outputs": [
    {
     "name": "stdout",
     "output_type": "stream",
     "text": [
      "Enter three names:Deepu Munee Kaavi\n",
      "Name1:-  Deepu\n",
      "Name2:-  Munee\n",
      "Name3:-  Kaavi\n"
     ]
    }
   ],
   "source": [
    "str1=input(\"Enter three names:\")\n",
    "names=str1.split()\n",
    "for i in range(1,len(names)+1):\n",
    "    print(\"Name{}:-  {}\".format(i,names[i-1]))"
   ]
  },
  {
   "cell_type": "code",
   "execution_count": 3,
   "id": "84299d84",
   "metadata": {},
   "outputs": [],
   "source": [
    "#10 Write a Python program to get a string from a given string where all occurrences of its first char have been changed to '@', except the first char itself."
   ]
  },
  {
   "cell_type": "code",
   "execution_count": 12,
   "id": "7ea1b60f",
   "metadata": {},
   "outputs": [
    {
     "name": "stdout",
     "output_type": "stream",
     "text": [
      "Enter a string:abcabab\n"
     ]
    },
    {
     "data": {
      "text/plain": [
       "'abc@b@b'"
      ]
     },
     "execution_count": 12,
     "metadata": {},
     "output_type": "execute_result"
    }
   ],
   "source": [
    "str1=input(\"Enter a string:\")\n",
    "str1[0]+str1[1:].replace(str1[0],\"@\")"
   ]
  },
  {
   "cell_type": "code",
   "execution_count": 13,
   "id": "9baf2bd1",
   "metadata": {},
   "outputs": [],
   "source": [
    "#11 Write a Python program to add 'ing' at the end of a given string (string length should be equal to or more than 3). If \n",
    "#the given string already ends with 'ing' then add 'ly' instead. If the string length of the given string is less than 3,\n",
    "#leave it unchanged"
   ]
  },
  {
   "cell_type": "code",
   "execution_count": 6,
   "id": "8bf1c2eb",
   "metadata": {},
   "outputs": [
    {
     "name": "stdout",
     "output_type": "stream",
     "text": [
      "Enter a string:mu\n",
      "mu\n"
     ]
    }
   ],
   "source": [
    "str1=input(\"Enter a string:\")\n",
    "if len(str1)>=3:\n",
    "    if str1[-3]==\"i\" and str1[-2]==\"n\" and str1[-1]==\"g\":\n",
    "        print(str1.replace(\"ing\",\"ly\"))\n",
    "    else:\n",
    "        print(str1+\"ing\")\n",
    "else:\n",
    "    print(str1)"
   ]
  },
  {
   "cell_type": "code",
   "execution_count": 15,
   "id": "077e6d23",
   "metadata": {},
   "outputs": [],
   "source": [
    "# 12 Write a python program that accepts two inputs num1 and num2 print True if one of them is 10 or if their sum is 10\n",
    "#otherwise print False"
   ]
  },
  {
   "cell_type": "code",
   "execution_count": 4,
   "id": "06aaa012",
   "metadata": {},
   "outputs": [
    {
     "name": "stdout",
     "output_type": "stream",
     "text": [
      "Enter a number:2\n",
      "Enter a number:3\n",
      "False\n"
     ]
    }
   ],
   "source": [
    "num1=int(input(\"Enter a number:\"))\n",
    "num2=int(input(\"Enter a number:\"))\n",
    "if num1==10 or num2==10 or num1+num2==10:\n",
    "    print(\"True\")\n",
    "else:\n",
    "    print(\"False\")"
   ]
  },
  {
   "cell_type": "code",
   "execution_count": 5,
   "id": "efa52950",
   "metadata": {},
   "outputs": [],
   "source": [
    "# 13 Write a python program that accepts three inputs x, y and z print True if x*y>z otherwise False\n"
   ]
  },
  {
   "cell_type": "code",
   "execution_count": 7,
   "id": "d5286732",
   "metadata": {},
   "outputs": [
    {
     "name": "stdout",
     "output_type": "stream",
     "text": [
      "Enter a number:1\n",
      "Enter a number:2\n",
      "Enter a number:4\n",
      "False\n"
     ]
    }
   ],
   "source": [
    "num1=int(input(\"Enter a number:\"))\n",
    "num2=int(input(\"Enter a number:\"))\n",
    "num3=int(input(\"Enter a number:\"))\n",
    "if num1*num2>num3:\n",
    "    print(\"True\")\n",
    "else:\n",
    "    print(\"False\")"
   ]
  },
  {
   "cell_type": "code",
   "execution_count": 8,
   "id": "3a2d50f4",
   "metadata": {},
   "outputs": [],
   "source": [
    "# 14 Write a python program that accepts two strings inputs return True depending on whether the total number of \n",
    "#characters in the first string is equal to the total number of characters in the second string"
   ]
  },
  {
   "cell_type": "code",
   "execution_count": 10,
   "id": "2cc2b935",
   "metadata": {},
   "outputs": [
    {
     "name": "stdout",
     "output_type": "stream",
     "text": [
      "Enter a string:Munna\n",
      "Enter a string:Deepthi\n",
      "False\n"
     ]
    }
   ],
   "source": [
    "str1=input(\"Enter a string:\")\n",
    "str2=input(\"Enter a string:\")\n",
    "if len(str1)==len(str2):\n",
    "    print(\"True\")\n",
    "else:\n",
    "    print(\"False\")"
   ]
  },
  {
   "cell_type": "code",
   "execution_count": 11,
   "id": "c95d3c06",
   "metadata": {},
   "outputs": [],
   "source": [
    "# 15 Write a python program that takes a string input, we'll say that the front is the first three characters of the string. \n",
    "#If the string length is less than three characters, the front is whatever is there. Return a new string, which is three copies \n",
    "#of the front\n"
   ]
  },
  {
   "cell_type": "code",
   "execution_count": 1,
   "id": "492c421f",
   "metadata": {},
   "outputs": [
    {
     "name": "stdout",
     "output_type": "stream",
     "text": [
      "Enter a string:go\n",
      "gogogo\n"
     ]
    }
   ],
   "source": [
    "str1=input(\"Enter a string:\")\n",
    "if len(str1)<=3:\n",
    "    print(str1*3)\n",
    "else:\n",
    "    front=str1[:3]\n",
    "    print(front*3)"
   ]
  },
  {
   "cell_type": "code",
   "execution_count": 2,
   "id": "686a8f31",
   "metadata": {},
   "outputs": [],
   "source": [
    "# 16 Write a python program that takes in a word and determines whether or not it is plural. A plural word is one \n",
    "#that ends in \"s\"."
   ]
  },
  {
   "cell_type": "code",
   "execution_count": 4,
   "id": "9ad53664",
   "metadata": {},
   "outputs": [
    {
     "name": "stdout",
     "output_type": "stream",
     "text": [
      "Enter a string:plants\n",
      "Plural\n"
     ]
    }
   ],
   "source": [
    "str1=input(\"Enter a string:\")\n",
    "if str1[-1]==\"s\":\n",
    "    print(\"Plural\")\n",
    "else:\n",
    "    print(\"Singular\")"
   ]
  },
  {
   "cell_type": "code",
   "execution_count": 7,
   "id": "09fd5ccb",
   "metadata": {},
   "outputs": [],
   "source": [
    "# 17 A bartender is writing a simple program to determine whether he should serve drinks to someone. He only serves \n",
    "#drinks to people 18 and older and when he's not on break (True means break and False means not a break time). Given \n",
    "#the person's age, and whether break time is in session, create a python program which prints whether he should serve \n",
    "#drinks or not."
   ]
  },
  {
   "cell_type": "code",
   "execution_count": 10,
   "id": "e9a50fe1",
   "metadata": {},
   "outputs": [
    {
     "name": "stdout",
     "output_type": "stream",
     "text": [
      "Enter break starting time:1.30\n",
      "Enter end of break time:2.30\n",
      "Enter your age:22\n",
      "Enter the time you enter:1.45\n",
      "Bartender is in break please wait for sometime\n"
     ]
    }
   ],
   "source": [
    "breaktimest=float(input(\"Enter break starting time:\"))\n",
    "breaktimeend=float(input(\"Enter end of break time:\"))\n",
    "person_age=int(input(\"Enter your age:\"))\n",
    "time=float(input(\"Enter the time you enter:\"))\n",
    "if time>=breaktimest and time<breaktimeend:\n",
    "    print(\"Bartender is in break please wait for sometime\")\n",
    "else:\n",
    "    if person_age>=18:\n",
    "        print(\"Serve drink\")\n",
    "    else:\n",
    "        print(\"Don't serve drink\")"
   ]
  },
  {
   "cell_type": "code",
   "execution_count": 5,
   "id": "9436c5e9",
   "metadata": {},
   "outputs": [],
   "source": [
    "# 18 Manoj Kumar has family and friends. Help him remind them who is who. Given a string with a name, return the \n",
    "#relation of that person to Manoj Kumar."
   ]
  },
  {
   "cell_type": "code",
   "execution_count": 7,
   "id": "40d6c56b",
   "metadata": {},
   "outputs": [
    {
     "name": "stdout",
     "output_type": "stream",
     "text": [
      "Enter number of family members:5\n",
      "Enter name of family member:John Baji\n",
      "Enter relation of family member:Baaba\n",
      "Enter name of family member:Mastanbi\n",
      "Enter relation of family member:Ammi\n",
      "Enter name of family member:Munna\n",
      "Enter relation of family member:Aapi\n",
      "Enter name of family member:Muzzi\n",
      "Enter relation of family member:Bhayya\n",
      "Enter name of family member:Munaaf\n",
      "Enter relation of family member:Bhayya\n",
      "Enter name of family member:Munaaf\n",
      "Bhayya\n"
     ]
    }
   ],
   "source": [
    "family={}\n",
    "members=int(input(\"Enter number of family members:\"))\n",
    "for i in range(members):\n",
    "    name=input(\"Enter name of family member:\")\n",
    "    relation=input(\"Enter relation of family member:\")\n",
    "    family[name]=relation\n",
    "name=input(\"Enter name of family member:\")\n",
    "print(family[name])"
   ]
  },
  {
   "cell_type": "code",
   "execution_count": 8,
   "id": "c3080c5a",
   "metadata": {},
   "outputs": [],
   "source": [
    "# 19 Write a python program that takes a string, breaks it up and returns it with vowels first, consonants second. For any \n",
    "#character that's not a vowel (like special characters or spaces), treat them like consonants"
   ]
  },
  {
   "cell_type": "code",
   "execution_count": 11,
   "id": "680a2a73",
   "metadata": {},
   "outputs": [
    {
     "name": "stdout",
     "output_type": "stream",
     "text": [
      "Enter a string:Munaaf@123\n",
      "uaaMnf@123\n"
     ]
    }
   ],
   "source": [
    "str1=input(\"Enter a string:\")\n",
    "vowels=[]\n",
    "consonants=[]\n",
    "for i in str1:\n",
    "    if i in [\"a\",\"i\",\"e\",\"o\",\"u\",\"A\",\"E\",\"I\",\"O\",\"U\"]:\n",
    "        vowels.append(i)\n",
    "    else:\n",
    "        consonants.append(i)\n",
    "str2=\"\"\n",
    "for i in vowels:\n",
    "    str2=str2+i\n",
    "for i in consonants:\n",
    "    str2=str2+i\n",
    "print(str2)"
   ]
  },
  {
   "cell_type": "code",
   "execution_count": 12,
   "id": "89a818cc",
   "metadata": {},
   "outputs": [],
   "source": [
    "# 20 Create a dynamic calculator which asks for numbers and operator and return the answers"
   ]
  },
  {
   "cell_type": "code",
   "execution_count": 18,
   "id": "3d202bda",
   "metadata": {},
   "outputs": [
    {
     "name": "stdout",
     "output_type": "stream",
     "text": [
      "Type first number:1\n",
      "Type any of these +,-,*,/,%,** :**\n",
      "Type second number:2\n",
      "1**2=1\n"
     ]
    }
   ],
   "source": [
    "num1=int(input(\"Type first number:\"))\n",
    "symbol=input(\"Type any of these +,-,*,/,%,** :\")\n",
    "num2=int(input(\"Type second number:\"))\n",
    "if symbol==\"+\":\n",
    "    print(\"{}+{}={}\".format(num1,num2,num1+num2))\n",
    "elif symbol==\"-\":\n",
    "    print(\"{}-{}={}\".format(num1,num2,num1-num2))\n",
    "elif symbol==\"*\":\n",
    "    print(\"{}*{}={}\".format(num1,num2,num1*num2))\n",
    "elif symbol==\"/\":\n",
    "    print(\"{}/{}={}\".format(num1,num2,num1/num2))\n",
    "elif symbol==\"%\":\n",
    "    print(\"{}%{}={}\".format(num1,num2,num1%num2))\n",
    "elif symbol==\"**\":\n",
    "    print(\"{}**{}={}\".format(num1,num2,num1**num2))\n",
    "else:\n",
    "    print(\"Go and check the symbol please\")"
   ]
  },
  {
   "cell_type": "code",
   "execution_count": 19,
   "id": "e0d94317",
   "metadata": {},
   "outputs": [],
   "source": []
  },
  {
   "cell_type": "code",
   "execution_count": null,
   "id": "e59acea5",
   "metadata": {},
   "outputs": [],
   "source": []
  }
 ],
 "metadata": {
  "kernelspec": {
   "display_name": "Python 3 (ipykernel)",
   "language": "python",
   "name": "python3"
  },
  "language_info": {
   "codemirror_mode": {
    "name": "ipython",
    "version": 3
   },
   "file_extension": ".py",
   "mimetype": "text/x-python",
   "name": "python",
   "nbconvert_exporter": "python",
   "pygments_lexer": "ipython3",
   "version": "3.11.3"
  }
 },
 "nbformat": 4,
 "nbformat_minor": 5
}
