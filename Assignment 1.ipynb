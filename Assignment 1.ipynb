{
 "cells": [
  {
   "cell_type": "code",
   "execution_count": 1,
   "id": "7906c828",
   "metadata": {},
   "outputs": [],
   "source": [
    "# 1.Write a python program to convert a string to lower case"
   ]
  },
  {
   "cell_type": "code",
   "execution_count": 2,
   "id": "7db885d5",
   "metadata": {},
   "outputs": [
    {
     "data": {
      "text/plain": [
       "'assignment'"
      ]
     },
     "execution_count": 2,
     "metadata": {},
     "output_type": "execute_result"
    }
   ],
   "source": [
    "stri1=\"ASSignment\"\n",
    "stri1.lower()"
   ]
  },
  {
   "cell_type": "code",
   "execution_count": 3,
   "id": "9819eaae",
   "metadata": {},
   "outputs": [],
   "source": [
    "# 2.Write a python program to convert only odd indexed characters to lower case\n",
    "#Ex:- PYTHON\n",
    "#Output: - PyThOn"
   ]
  },
  {
   "cell_type": "code",
   "execution_count": 4,
   "id": "c57b996b",
   "metadata": {},
   "outputs": [
    {
     "data": {
      "text/plain": [
       "'AsSiGnMeNt'"
      ]
     },
     "execution_count": 4,
     "metadata": {},
     "output_type": "execute_result"
    }
   ],
   "source": [
    "stri2=\"ASSIGNMENT\"\n",
    "stri2[0]+stri2[1].lower()+stri2[2]+stri2[3].lower()+stri2[4]+stri2[5].lower()+stri2[6]+stri2[7].lower()+stri2[8]+stri2[9].lower()"
   ]
  },
  {
   "cell_type": "code",
   "execution_count": 5,
   "id": "bdb3d891",
   "metadata": {},
   "outputs": [],
   "source": [
    "# 3.Write a python program to convert only even indexed characters to lower case\n",
    "# Ex:- PYTHON\n",
    "# Output: - pYtHoN"
   ]
  },
  {
   "cell_type": "code",
   "execution_count": 6,
   "id": "cbe80839",
   "metadata": {},
   "outputs": [
    {
     "data": {
      "text/plain": [
       "'aSsIgNmEnT'"
      ]
     },
     "execution_count": 6,
     "metadata": {},
     "output_type": "execute_result"
    }
   ],
   "source": [
    "stri2=\"ASSIGNMENT\"\n",
    "stri2[0].lower()+stri2[1]+stri2[2].lower()+stri2[3]+stri2[4].lower()+stri2[5]+stri2[6].lower()+stri2[7]+stri2[8].lower()+stri2[9]"
   ]
  },
  {
   "cell_type": "code",
   "execution_count": 7,
   "id": "4a30d919",
   "metadata": {},
   "outputs": [],
   "source": [
    "# 4. Write a python program to convert only odd indexed characters to upper case\n",
    "#Ex:- python\n",
    "#Output: - pYtHoN"
   ]
  },
  {
   "cell_type": "code",
   "execution_count": 8,
   "id": "318f2844",
   "metadata": {},
   "outputs": [
    {
     "data": {
      "text/plain": [
       "'aSsIgNmEnT'"
      ]
     },
     "execution_count": 8,
     "metadata": {},
     "output_type": "execute_result"
    }
   ],
   "source": [
    "stri3=\"assignment\"\n",
    "stri3[0]+stri3[1].upper()+stri3[2]+stri3[3].upper()+stri3[4]+stri3[5].upper()+stri3[6]+stri3[7].upper()+stri3[8]+stri3[9].upper()"
   ]
  },
  {
   "cell_type": "code",
   "execution_count": 9,
   "id": "4c85ed0a",
   "metadata": {},
   "outputs": [],
   "source": [
    "# 5. Write a python program to convert only even indexed characters to upper case\n",
    "# Ex:- python\n",
    "# Output: - PyThOn"
   ]
  },
  {
   "cell_type": "code",
   "execution_count": 10,
   "id": "1f4e12ce",
   "metadata": {},
   "outputs": [
    {
     "data": {
      "text/plain": [
       "'AsSiGnMeNt'"
      ]
     },
     "execution_count": 10,
     "metadata": {},
     "output_type": "execute_result"
    }
   ],
   "source": [
    "stri3=\"assignment\"\n",
    "stri3[0].upper()+stri3[1]+stri3[2].upper()+stri3[3]+stri3[4].upper()+stri3[5]+stri3[6].upper()+stri3[7]+stri3[8].upper()+stri3[9]"
   ]
  },
  {
   "cell_type": "code",
   "execution_count": 11,
   "id": "d941fd04",
   "metadata": {},
   "outputs": [],
   "source": [
    "# 6. Write a python program where you have different variable which contains your name ,sex,age, phone no ,fathers name and mothers name.And by using this variable create a\n",
    "#variable named bio-data where you will use all\n",
    "\n",
    "#this variable\n",
    "\n",
    "#Ex:-print(bio-data)\n",
    "\n",
    "#Output:- My name is …., My age is ….,My\n",
    "\n",
    "#phone-no is ….,my fathers name is …,and my\n",
    "\n",
    "#mothers name is……"
   ]
  },
  {
   "cell_type": "code",
   "execution_count": 12,
   "id": "5a29d470",
   "metadata": {},
   "outputs": [
    {
     "name": "stdout",
     "output_type": "stream",
     "text": [
      "Enter your Name:Munnera\n",
      "Enter F for Female or M for Male:F\n",
      "Enter your age:21\n",
      "Enter your phone no:9398551630\n",
      "Enter your Fathers name:John Baji\n",
      "Enter your Mothers name:Mastanbi\n",
      "My name is Munnera,My gender is F,My age is 21,My Phone number is 9398551630,My Fathers name is John Baji,My Mothers name is Mastanbi\n"
     ]
    }
   ],
   "source": [
    "name=input(\"Enter your Name:\")\n",
    "sex=input(\"Enter F for Female or M for Male:\")\n",
    "age=int(input(\"Enter your age:\"))\n",
    "phone_no=int(input(\"Enter your phone no:\"))\n",
    "fathers_name=input(\"Enter your Fathers name:\")\n",
    "mothers_name=input(\"Enter your Mothers name:\")\n",
    "bio_data=\"My name is {},My gender is {},My age is {},My Phone number is {},My Fathers name is {},My Mothers name is {}\".format(name,sex,age,phone_no,fathers_name,mothers_name)\n",
    "print(bio_data)"
   ]
  },
  {
   "cell_type": "code",
   "execution_count": 13,
   "id": "b7896765",
   "metadata": {},
   "outputs": [],
   "source": [
    "# 7. Write a python program to count how many times “@” occurred"
   ]
  },
  {
   "cell_type": "code",
   "execution_count": 14,
   "id": "30305066",
   "metadata": {},
   "outputs": [
    {
     "data": {
      "text/plain": [
       "12"
      ]
     },
     "execution_count": 14,
     "metadata": {},
     "output_type": "execute_result"
    }
   ],
   "source": [
    "stri4=\"@@@@@Innomatics@JNTU@@@@@@\"\n",
    "stri4.count('@')"
   ]
  },
  {
   "cell_type": "code",
   "execution_count": 15,
   "id": "bcee8802",
   "metadata": {},
   "outputs": [],
   "source": [
    "# 8.Write a python program to get only names from the string “name1.@gmail.com,name2.@gmail.com,name 3.@gmail.com” Output-name1,name2,name3"
   ]
  },
  {
   "cell_type": "code",
   "execution_count": 16,
   "id": "6902e9b3",
   "metadata": {},
   "outputs": [
    {
     "name": "stdout",
     "output_type": "stream",
     "text": [
      "name1,name2,name3\n"
     ]
    }
   ],
   "source": [
    "stri5=\"name1.@gmail.com,name2.@gmail.com,name3.@gmail.com\"\n",
    "print(stri5.replace(\".@gmail.com\",\"\"))"
   ]
  },
  {
   "cell_type": "code",
   "execution_count": 17,
   "id": "9398580f",
   "metadata": {},
   "outputs": [],
   "source": [
    "# 9.Given a string of odd length greater that 9, return a new string made of the middle three characters of a given String\n",
    "\n",
    "# Ex:- “mynameissan\n",
    "\n",
    "# Output:- “mei”\n"
   ]
  },
  {
   "cell_type": "code",
   "execution_count": 18,
   "id": "edb29f35",
   "metadata": {},
   "outputs": [
    {
     "name": "stdout",
     "output_type": "stream",
     "text": [
      "mei\n"
     ]
    }
   ],
   "source": [
    "stri6=\"mynameissan\"\n",
    "length=len(stri6)\n",
    "center=length//2\n",
    "print(stri6[center-1]+stri6[center]+stri6[center+1])"
   ]
  },
  {
   "cell_type": "code",
   "execution_count": 19,
   "id": "5ee0fa73",
   "metadata": {},
   "outputs": [],
   "source": [
    "# 10.Write a python program to insert a 2 string in the middle of 1 string\n",
    "\n",
    "# Ex:-Str1=”myn”\n",
    "\n",
    "#Str2=”sa”\n",
    "\n",
    "#Output:-“msayn”"
   ]
  },
  {
   "cell_type": "code",
   "execution_count": 20,
   "id": "bec62288",
   "metadata": {},
   "outputs": [
    {
     "name": "stdout",
     "output_type": "stream",
     "text": [
      "msayn\n"
     ]
    }
   ],
   "source": [
    "stri7=\"myn\"\n",
    "stri8=\"sa\"\n",
    "center=len(stri7)//2\n",
    "print(stri7[:center]+stri8+stri7[center:])"
   ]
  },
  {
   "cell_type": "code",
   "execution_count": 21,
   "id": "70b9b121",
   "metadata": {},
   "outputs": [],
   "source": [
    "# 11.Write a program to remove vowels from\n",
    "\n",
    "\n",
    "# the entire alphabets Ex:- “abcdefghijklmnopqrstuvwxyz” Output:- “bcdfghjklmnpqrstvwxyz”\n"
   ]
  },
  {
   "cell_type": "code",
   "execution_count": 22,
   "id": "2424f090",
   "metadata": {},
   "outputs": [
    {
     "data": {
      "text/plain": [
       "'bcdfghjklmnpqrstvwxyz'"
      ]
     },
     "execution_count": 22,
     "metadata": {},
     "output_type": "execute_result"
    }
   ],
   "source": [
    "stri9=\"abcdefghijklmnopqrstuvwxyz\"\n",
    "stri9.replace(\"a\",\"\").replace(\"e\",\"\").replace(\"i\",\"\").replace(\"o\",\"\").replace(\"u\",\"\")"
   ]
  },
  {
   "cell_type": "code",
   "execution_count": null,
   "id": "51682e0e",
   "metadata": {},
   "outputs": [],
   "source": []
  }
 ],
 "metadata": {
  "kernelspec": {
   "display_name": "Python 3 (ipykernel)",
   "language": "python",
   "name": "python3"
  },
  "language_info": {
   "codemirror_mode": {
    "name": "ipython",
    "version": 3
   },
   "file_extension": ".py",
   "mimetype": "text/x-python",
   "name": "python",
   "nbconvert_exporter": "python",
   "pygments_lexer": "ipython3",
   "version": "3.11.3"
  }
 },
 "nbformat": 4,
 "nbformat_minor": 5
}
