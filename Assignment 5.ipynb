{
 "cells": [
  {
   "cell_type": "code",
   "execution_count": 17,
   "id": "f7195b75",
   "metadata": {},
   "outputs": [],
   "source": [
    "# 1 Given a list of numbers, write a python program that returns a new list which Has all \n",
    "#duplicate elements removed. And is sorted in an increasing order."
   ]
  },
  {
   "cell_type": "code",
   "execution_count": 19,
   "id": "dfebd358",
   "metadata": {},
   "outputs": [
    {
     "name": "stdout",
     "output_type": "stream",
     "text": [
      "Enter length of the list:10\n",
      "Enter an element:1\n",
      "Enter an element:2\n",
      "Enter an element:3\n",
      "Enter an element:1\n",
      "Enter an element:2\n",
      "Enter an element:3\n",
      "Enter an element:4\n",
      "Enter an element:5\n",
      "Enter an element:4\n",
      "Enter an element:5\n",
      "List with Duplicates: [1, 2, 3, 1, 2, 3, 4, 5, 4, 5]\n",
      "List without Duplicates: [1, 2, 3, 4, 5]\n"
     ]
    }
   ],
   "source": [
    "l_w_d=[]\n",
    "length=int(input(\"Enter length of the list:\"))\n",
    "for i in range(length):\n",
    "    num=int(input(\"Enter an element:\"))\n",
    "    l_w_d.insert(i,num)\n",
    "l_wo_d=[]\n",
    "for i in l_w_d:\n",
    "    if i not in l_wo_d:\n",
    "        l_wo_d.append(i)\n",
    "print(\"List with Duplicates:\",l_w_d)\n",
    "print(\"List without Duplicates:\",l_wo_d)"
   ]
  },
  {
   "cell_type": "code",
   "execution_count": 20,
   "id": "af7ca539",
   "metadata": {},
   "outputs": [],
   "source": [
    "# 2 Write a Python program where you will iterate over both keys and values in dictionaries"
   ]
  },
  {
   "cell_type": "code",
   "execution_count": 25,
   "id": "19d98bea",
   "metadata": {},
   "outputs": [
    {
     "name": "stdout",
     "output_type": "stream",
     "text": [
      "Enter length of dictionary:4\n",
      "Enter key:first\n",
      "Enter the datatype value int,float,complex,str:int\n",
      "Enter a number:1\n",
      "Enter key:second\n",
      "Enter the datatype value int,float,complex,str:float\n",
      "Enter a float number:1.45\n",
      "Enter key:third\n",
      "Enter the datatype value int,float,complex,str:complex\n",
      "Enter a complex number:1+5j\n",
      "Enter key:fourth\n",
      "Enter the datatype value int,float,complex,str:str\n",
      "Enter a string:Last\n",
      "<class 'dict'>\n",
      "first 1\n",
      "second 1.45\n",
      "third (1+5j)\n",
      "fourth Last\n"
     ]
    }
   ],
   "source": [
    "dict1={}\n",
    "length=int(input(\"Enter length of dictionary:\"))\n",
    "for i in range(length):\n",
    "    key=input(\"Enter key:\")\n",
    "    val_type=input(\"Enter the datatype value int,float,complex,str:\")\n",
    "    if val_type.lower()==\"int\":\n",
    "        val=int(input(\"Enter a number:\"))\n",
    "    elif val_type.lower()==\"float\":\n",
    "        val=float(input(\"Enter a float number:\"))\n",
    "    elif val_type.lower()==\"complex\":\n",
    "        val=complex(input(\"Enter a complex number:\"))\n",
    "    elif val_type.lower()==\"str\":\n",
    "        val=input(\"Enter a string:\")\n",
    "    else:\n",
    "        print(\"can you give  one of the above 4 data type only please\")\n",
    "    dict1[key]=val\n",
    "print(dict1)\n",
    "for i,j in dict1.items():\n",
    "              print(i,j)"
   ]
  },
  {
   "cell_type": "markdown",
   "id": "2ab17de7",
   "metadata": {},
   "source": []
  },
  {
   "cell_type": "code",
   "execution_count": 26,
   "id": "81731dd9",
   "metadata": {},
   "outputs": [],
   "source": [
    "# 3 Write a Python program that takes a dictionary of student names and returns a list of student names in alphabetical order"
   ]
  },
  {
   "cell_type": "code",
   "execution_count": 37,
   "id": "57ed6a96",
   "metadata": {},
   "outputs": [
    {
     "name": "stdout",
     "output_type": "stream",
     "text": [
      "Enter length of dictionary:4\n",
      "Enter student number:s1\n",
      "Enter student name:Munna\n",
      "Enter student number:s2\n",
      "Enter student name:Suhee\n",
      "Enter student number:s3\n",
      "Enter student name:Relation\n",
      "Enter student number:s4\n",
      "Enter student name:Darling\n",
      "{'s1': 'Munna', 's2': 'Suhee', 's3': 'Relation', 's4': 'Darling'}\n",
      "Alphabetical ordered student names: ['Darling', 'Munna', 'Relation', 'Suhee']\n"
     ]
    }
   ],
   "source": [
    "dict1={}\n",
    "length=int(input(\"Enter length of dictionary:\"))\n",
    "for i in range(length):\n",
    "    key=input(\"Enter student number:\")\n",
    "    val=input(\"Enter student name:\")\n",
    "    dict1[key]=val\n",
    "print(dict1)\n",
    "values=list(dict1.values())\n",
    "print(\"Alphabetical ordered student names:\",sorted(values))"
   ]
  },
  {
   "cell_type": "code",
   "execution_count": 38,
   "id": "8dc24182",
   "metadata": {},
   "outputs": [],
   "source": [
    "# 4 Write a Python which returns a new list of Booleans, from a given number. Iterating \n",
    "#through the number one digit at a time, append True if the digit is 1 and False if it is 0."
   ]
  },
  {
   "cell_type": "code",
   "execution_count": 45,
   "id": "af8de7ac",
   "metadata": {},
   "outputs": [
    {
     "name": "stdout",
     "output_type": "stream",
     "text": [
      "Enter a sequence of 0's and 1's:123001\n",
      "2\n",
      "There is another values rather than 0's and 1's please only provide 0's and 1's\n",
      "String: 123001\n",
      "[]\n"
     ]
    }
   ],
   "source": [
    "str1=input(\"Enter a sequence of 0's and 1's:\")\n",
    "l=[]\n",
    "flag=True\n",
    "for i in str1:\n",
    "    if i!=\"1\" and i!=\"0\":\n",
    "        print(i)\n",
    "        print(\"There is another values rather than 0's and 1's please only provide 0's and 1's\")\n",
    "        flag=False\n",
    "        break\n",
    "if flag==True:\n",
    "    for i in str1:\n",
    "        if i==\"1\":\n",
    "            l.append(True)\n",
    "        else:\n",
    "            l.append(False)\n",
    "print(\"String:\",str1)\n",
    "print(l)"
   ]
  },
  {
   "cell_type": "code",
   "execution_count": 46,
   "id": "ab182eb9",
   "metadata": {},
   "outputs": [],
   "source": [
    "# 5 Write a Python program where you will return a dictionary where the keys will be the \n",
    "#character and the values will be the occurrence of the character in the string, and it should for any string inputs (dynamic)\n"
   ]
  },
  {
   "cell_type": "code",
   "execution_count": 2,
   "id": "a4b105f0",
   "metadata": {},
   "outputs": [
    {
     "name": "stdout",
     "output_type": "stream",
     "text": [
      "Enter a string:My name is munna\n",
      "My name is munna\n",
      "{'m': 3, 'y': 1, 'n': 3, 'a': 2, 'e': 1, 'i': 1, 's': 1, 'u': 1}\n"
     ]
    }
   ],
   "source": [
    "str1=input(\"Enter a string:\")\n",
    "str2=str1.lower()\n",
    "dict1={}\n",
    "for i in str2:\n",
    "    if i!=\" \":\n",
    "        if i not in dict1:\n",
    "            dict1[i]=str2.count(i)\n",
    "print(str1)\n",
    "print(dict1)"
   ]
  },
  {
   "cell_type": "code",
   "execution_count": 3,
   "id": "9ab90be1",
   "metadata": {},
   "outputs": [],
   "source": [
    "# 6 Given a dictionary containing the names and ages of a group of people, return the name of the oldest person\n"
   ]
  },
  {
   "cell_type": "code",
   "execution_count": 15,
   "id": "bd54b79c",
   "metadata": {},
   "outputs": [
    {
     "name": "stdout",
     "output_type": "stream",
     "text": [
      "Enter length of the dictionary:4\n",
      "Enter name:Ammi\n",
      "Enter age of the person:37\n",
      "Enter name:Baaba\n",
      "Enter age of the person:44\n",
      "Enter name:Naanba\n",
      "Enter age of the person:65\n",
      "Enter name:Nanemma\n",
      "Enter age of the person:59\n",
      "Naanba\n"
     ]
    }
   ],
   "source": [
    "dict1={}\n",
    "length=int(input(\"Enter length of the dictionary:\"))\n",
    "for i in range(length):\n",
    "    key=input(\"Enter name:\")\n",
    "    val=int(input(\"Enter age of the person:\"))\n",
    "    dict1[key]=val\n",
    "ages=list(dict1.values())\n",
    "ages_sort=sorted(ages)\n",
    "for i in dict1:\n",
    "    if dict1[i]==ages_sort[-1]:\n",
    "        print(i)"
   ]
  },
  {
   "cell_type": "markdown",
   "id": "5b2eaab3",
   "metadata": {},
   "source": []
  },
  {
   "cell_type": "code",
   "execution_count": 16,
   "id": "1299e6ea",
   "metadata": {},
   "outputs": [],
   "source": [
    "# 7 Write a Python program to create a Rock, Paper, Scissor game, use two inputs for two players:\n",
    "#Conditions: -Rock beats Scissors, Scissors beats Paper, Paper beats Rock"
   ]
  },
  {
   "cell_type": "code",
   "execution_count": 29,
   "id": "aebf3c33",
   "metadata": {},
   "outputs": [
    {
     "name": "stdout",
     "output_type": "stream",
     "text": [
      "Enter rock paper scissors:paper\n",
      "Enter rock paper scissors:scissors\n",
      "scissors beat paper\n",
      "Player2 wins\n"
     ]
    }
   ],
   "source": [
    "player1=input(\"Enter rock paper scissors:\")\n",
    "player2=input(\"Enter rock paper scissors:\")\n",
    "if (player1==\"rock\" and player2==\"scissors\") or (player1==\"scissors\" and player2==\"rock\") :\n",
    "    print(\"rock beat scissors\")\n",
    "    if player1==\"rock\":\n",
    "        print(\"Player1 wins\")\n",
    "    else:\n",
    "        print(\"Player2 wins\")\n",
    "elif (player1==\"scissors\" and player2==\"paper\") or (player1==\"paper\" and player2==\"scissors\"):\n",
    "    print(\"scissors beat paper\")\n",
    "    if player1==\"scissors\":\n",
    "        print(\"Player1 wins\")\n",
    "    else:\n",
    "        print(\"Player2 wins\")\n",
    "elif (player1==\"paper\" and player2==\"rock\") or (player1==\"rock\" and player2==\"paper\"):\n",
    "    print(\"paper beats rock\")\n",
    "    if player1==\"paper\":\n",
    "        print(\"Player1 wins\")\n",
    "    else:\n",
    "        print(\"Player2 wins\")\n",
    "else:\n",
    "    print(\"Please only enter rock paper scissors\")"
   ]
  },
  {
   "cell_type": "code",
   "execution_count": 30,
   "id": "557aab26",
   "metadata": {},
   "outputs": [],
   "source": [
    "# 8 Create a program that returns a list of items that you can afford in the store with the \n",
    "#money you have in your wallet. Create a dictionary with items as key and price as values"
   ]
  },
  {
   "cell_type": "code",
   "execution_count": 32,
   "id": "14223ad8",
   "metadata": {},
   "outputs": [
    {
     "name": "stdout",
     "output_type": "stream",
     "text": [
      "Enter length of the dictionary:4\n",
      "Enter item name:ball\n",
      "Enter price of the item:350\n",
      "Enter item name:remote\n",
      "Enter price of the item:1150\n",
      "Enter item name:mobile\n",
      "Enter price of the item:10000\n",
      "Enter item name:tv\n",
      "Enter price of the item:23000\n",
      "Enter money you have in your wallet:2000\n",
      "items u can afford for now ['ball', 'remote']\n"
     ]
    }
   ],
   "source": [
    "dict1={}\n",
    "length=int(input(\"Enter length of the dictionary:\"))\n",
    "for i in range(length):\n",
    "    key=input(\"Enter item name:\")\n",
    "    val=int(input(\"Enter price of the item:\"))\n",
    "    dict1[key]=val\n",
    "money_u_hv=int(input(\"Enter money you have in your wallet:\"))\n",
    "items_u_afford=[]\n",
    "for item,price in dict1.items():\n",
    "    if price<=money_u_hv:\n",
    "        items_u_afford.append(item)\n",
    "print(\"items u can afford for now\",items_u_afford)"
   ]
  },
  {
   "cell_type": "code",
   "execution_count": 33,
   "id": "63c351e3",
   "metadata": {},
   "outputs": [],
   "source": [
    "# 9 Write a Python program to create a union of sets\n"
   ]
  },
  {
   "cell_type": "code",
   "execution_count": 6,
   "id": "1a2b70ae",
   "metadata": {},
   "outputs": [
    {
     "name": "stdout",
     "output_type": "stream",
     "text": [
      "Enter length of 1st set:4\n",
      "Enter length of 2nd set:5\n",
      "Enter element:3\n",
      "Enter element:5\n",
      "Enter element:7\n",
      "Enter element:9\n",
      "Enter element:1\n",
      "Enter element:2\n",
      "Enter element:7\n",
      "Enter element:6\n",
      "Enter element:5\n",
      "{9, 3, 5, 7}\n",
      "{1, 2, 5, 6, 7}\n",
      "{1, 2, 3, 5, 6, 7, 9}\n"
     ]
    }
   ],
   "source": [
    "set1=set()\n",
    "set2=set()\n",
    "len1=int(input(\"Enter length of 1st set:\"))\n",
    "len2=int(input(\"Enter length of 2nd set:\"))\n",
    "for i in range(len1):\n",
    "    var1=int(input(\"Enter element:\"))\n",
    "    if var1 in set1:\n",
    "        print(\"Set does not allow duplication please enter another value:\")\n",
    "        print(set1)\n",
    "        var1=int(input(\"Enter element:\"))\n",
    "        set1.add(var1)\n",
    "    else:\n",
    "        set1.add(var1)\n",
    "for i in range(len2):\n",
    "    var2=int(input(\"Enter element:\"))\n",
    "    if var2 in set2:\n",
    "        print(\"Set does not allow duplication please enter another value:\")\n",
    "        print(set2)\n",
    "        var2=int(input(\"Enter element:\"))\n",
    "        set2.add(var2)\n",
    "    else:\n",
    "        set2.add(var2)\n",
    "print(set1)\n",
    "print(set2)\n",
    "set3=set1.union(set2)\n",
    "print(set3)"
   ]
  },
  {
   "cell_type": "markdown",
   "id": "cc13171f",
   "metadata": {},
   "source": []
  },
  {
   "cell_type": "code",
   "execution_count": 7,
   "id": "cfee12b5",
   "metadata": {},
   "outputs": [],
   "source": [
    "# 10 Write a Python program to check if a given value is present in a set or not"
   ]
  },
  {
   "cell_type": "code",
   "execution_count": 10,
   "id": "2f58a475",
   "metadata": {},
   "outputs": [
    {
     "name": "stdout",
     "output_type": "stream",
     "text": [
      "Enter length of 1st set:4\n",
      "Enter a value to check:5\n",
      "Enter datatype of element u want int,float,complex,str:int\n",
      "Enter an integer number:1\n",
      "Enter datatype of element u want int,float,complex,str:float\n",
      "Enter a float number:1.1\n",
      "Enter datatype of element u want int,float,complex,str:int\n",
      "Enter an integer number:1\n",
      "Set does not allow duplication please enter another value:\n",
      "{1, 1.1}\n",
      "Enter datatype of element u want int,float,complex,str:complex\n",
      "Enter a complex number:2+3j\n",
      "Enter datatype of element u want int,float,complex,str:str\n",
      "Enter string:Munaaf\n",
      "GIven value is not present in set\n"
     ]
    }
   ],
   "source": [
    "set1=set()\n",
    "len1=int(input(\"Enter length of 1st set:\"))\n",
    "val=int(input(\"Enter a value to check:\"))\n",
    "for i in range(len1):\n",
    "    data_type=input(\"Enter datatype of element u want int,float,complex,str:\")\n",
    "    if data_type==\"int\":\n",
    "        var1=int(input(\"Enter an integer number:\"))\n",
    "    elif data_type==\"float\":\n",
    "        var1=float(input(\"Enter a float number:\"))\n",
    "    elif data_type==\"complex\":\n",
    "        var1=complex(input(\"Enter a complex number:\"))\n",
    "    elif data_type==\"str\":\n",
    "        var1=input(\"Enter string:\")\n",
    "    else:\n",
    "        print(\"please enter only one type of above 4 datatype\")\n",
    "    if var1 in set1:\n",
    "        print(\"Set does not allow duplication please enter another value:\")\n",
    "        print(set1)\n",
    "        data_type=input(\"Enter datatype of element u want int,float,complex,str:\")\n",
    "        if data_type==\"int\":\n",
    "            var1=int(input(\"Enter an integer number:\"))\n",
    "        elif data_type==\"float\":\n",
    "            var1=float(input(\"Enter a float number:\"))\n",
    "        elif data_type==\"complex\":\n",
    "            var1=complex(input(\"Enter a complex number:\"))\n",
    "        elif data_type==\"str\":\n",
    "            var1=input(\"Enter string:\")\n",
    "        else:\n",
    "            print(\"please enter only one type of above 4 datatype\")\n",
    "        set1.add(var1)\n",
    "    else:\n",
    "        set1.add(var1)\n",
    "if val in set1:\n",
    "    print(\"Given value is present in set\")\n",
    "else:\n",
    "    print(\"GIven value is not present in set\")"
   ]
  },
  {
   "cell_type": "code",
   "execution_count": 11,
   "id": "1b1a7d01",
   "metadata": {},
   "outputs": [],
   "source": [
    "# 11 Write a Python program to find the occurrences of 3 most common words in a given text. And make it as a dictionaries\n"
   ]
  },
  {
   "cell_type": "code",
   "execution_count": 3,
   "id": "034be45e",
   "metadata": {},
   "outputs": [
    {
     "name": "stdout",
     "output_type": "stream",
     "text": [
      "Enter a paragraph:i love to play hide and seek i love to play nothing i love programming i used to do programs a lot\n",
      "['i', 'love', 'to', 'play', 'hide', 'and', 'seek', 'i', 'love', 'to', 'play', 'nothing', 'i', 'love', 'programming', 'i', 'used', 'to', 'do', 'programs', 'a', 'lot']\n",
      "{'i': 4, 'love': 3, 'to': 3, 'play': 2, 'hide': 1, 'and': 1, 'seek': 1, 'nothing': 1, 'programming': 1, 'used': 1, 'do': 1, 'programs': 1, 'a': 1, 'lot': 1}\n",
      "[1, 1, 1, 1, 1, 1, 1, 1, 1, 1, 2, 3, 3, 4]\n",
      "{'i': 4, 'love': 3, 'to': 3}\n"
     ]
    }
   ],
   "source": [
    "str1=input(\"Enter a paragraph:\")\n",
    "dict1={}\n",
    "dict_common={}\n",
    "str2=str1.lower().split()\n",
    "for i in str2:\n",
    "    if i not in dict1:\n",
    "        y=str2.count(i)\n",
    "        dict1[i]=y\n",
    "print(str2)\n",
    "print(dict1)\n",
    "val=sorted(dict1.values())\n",
    "print(val)\n",
    "for com_word,count in dict1.items():\n",
    "    if val[-1]==count or val[-2]==count or val[-3]==count:\n",
    "        if len(dict_common)<3:\n",
    "            dict_common[com_word]=count\n",
    "        \n",
    "print(dict_common)"
   ]
  },
  {
   "cell_type": "code",
   "execution_count": 4,
   "id": "bbb7ce07",
   "metadata": {},
   "outputs": [],
   "source": [
    "# 12 Write a Python program that accepts name of given subject and mark, and \n",
    "#make subjects as keys in dictionaries and marks as values and print the final dictionary with subjects and marks"
   ]
  },
  {
   "cell_type": "code",
   "execution_count": 6,
   "id": "3dd4e045",
   "metadata": {},
   "outputs": [
    {
     "name": "stdout",
     "output_type": "stream",
     "text": [
      "Enter number of subjects yo want to store:6\n",
      "Enter subject name:English\n",
      "Enter marks of that subject:95\n",
      "Enter subject name:Telugu\n",
      "Enter marks of that subject:97\n",
      "Enter subject name:Maths\n",
      "Enter marks of that subject:99\n",
      "Enter subject name:Social\n",
      "Enter marks of that subject:93\n",
      "Enter subject name:Hindi\n",
      "Enter marks of that subject:98\n",
      "Enter subject name:Science\n",
      "Enter marks of that subject:95\n",
      "{'English': 95.0, 'Telugu': 97.0, 'Maths': 99.0, 'Social': 93.0, 'Hindi': 98.0, 'Science': 95.0}\n"
     ]
    }
   ],
   "source": [
    "report_card={}\n",
    "length=int(input(\"Enter number of subjects yo want to store:\"))\n",
    "for i in range(length):\n",
    "    subject=input(\"Enter subject name:\")\n",
    "    marks=float(input(\"Enter marks of that subject:\"))\n",
    "    report_card[subject]=marks\n",
    "print(report_card)"
   ]
  },
  {
   "cell_type": "code",
   "execution_count": null,
   "id": "2a2bd60e",
   "metadata": {},
   "outputs": [],
   "source": []
  }
 ],
 "metadata": {
  "kernelspec": {
   "display_name": "Python 3 (ipykernel)",
   "language": "python",
   "name": "python3"
  },
  "language_info": {
   "codemirror_mode": {
    "name": "ipython",
    "version": 3
   },
   "file_extension": ".py",
   "mimetype": "text/x-python",
   "name": "python",
   "nbconvert_exporter": "python",
   "pygments_lexer": "ipython3",
   "version": "3.11.3"
  }
 },
 "nbformat": 4,
 "nbformat_minor": 5
}
