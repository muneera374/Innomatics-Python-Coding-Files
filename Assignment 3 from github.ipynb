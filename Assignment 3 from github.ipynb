{
 "cells": [
  {
   "cell_type": "code",
   "execution_count": 1,
   "id": "b2115afe",
   "metadata": {},
   "outputs": [],
   "source": [
    "# 1 Write a Python program that prints all the numbers from 0 to 6 except 3 and 6"
   ]
  },
  {
   "cell_type": "code",
   "execution_count": 3,
   "id": "34838be1",
   "metadata": {},
   "outputs": [
    {
     "name": "stdout",
     "output_type": "stream",
     "text": [
      "1\n",
      "2\n",
      "4\n",
      "5\n"
     ]
    }
   ],
   "source": [
    "for i in range(7):\n",
    "    if i%3==0:\n",
    "        continue\n",
    "    else:\n",
    "        print(i)"
   ]
  },
  {
   "cell_type": "code",
   "execution_count": 4,
   "id": "7c2a929b",
   "metadata": {},
   "outputs": [],
   "source": [
    "#2 Write a program to accept a number from a user and calculate the sum of all numbers from 1 to a given number\n"
   ]
  },
  {
   "cell_type": "code",
   "execution_count": 1,
   "id": "6f2087b0",
   "metadata": {},
   "outputs": [
    {
     "name": "stdout",
     "output_type": "stream",
     "text": [
      "Enter a number:10\n",
      "45\n"
     ]
    }
   ],
   "source": [
    "num1=int(input(\"Enter a number:\"))\n",
    "sum=0\n",
    "for i in range(num1):\n",
    "    sum=sum+i\n",
    "print(sum)"
   ]
  },
  {
   "cell_type": "code",
   "execution_count": 2,
   "id": "c67f50f6",
   "metadata": {},
   "outputs": [],
   "source": [
    "# 3 Write a program to print multiplication table of a given number(input)"
   ]
  },
  {
   "cell_type": "code",
   "execution_count": 3,
   "id": "80cef827",
   "metadata": {},
   "outputs": [
    {
     "name": "stdout",
     "output_type": "stream",
     "text": [
      "Enter a number:10\n",
      "10*1=10\n",
      "10*2=20\n",
      "10*3=30\n",
      "10*4=40\n",
      "10*5=50\n",
      "10*6=60\n",
      "10*7=70\n",
      "10*8=80\n",
      "10*9=90\n",
      "10*10=100\n"
     ]
    }
   ],
   "source": [
    "num1=int(input(\"Enter a number:\"))\n",
    "for i in range(1,11):\n",
    "    print(\"{}*{}={}\".format(num1,i,num1*i))"
   ]
  },
  {
   "cell_type": "code",
   "execution_count": 4,
   "id": "ddbd5536",
   "metadata": {},
   "outputs": [],
   "source": [
    "# 4 Write a program to count the total number of digits in a number using a while loop."
   ]
  },
  {
   "cell_type": "code",
   "execution_count": 3,
   "id": "e5f30920",
   "metadata": {},
   "outputs": [
    {
     "name": "stdout",
     "output_type": "stream",
     "text": [
      "Enter a number:75869\n",
      "5\n"
     ]
    }
   ],
   "source": [
    "num1=int(input(\"Enter a number:\"))\n",
    "digits=0\n",
    "while num1>0:\n",
    "    num1=num1//10\n",
    "    digits=digits+1\n",
    "print(digits)"
   ]
  },
  {
   "cell_type": "code",
   "execution_count": 1,
   "id": "bee0dc83",
   "metadata": {},
   "outputs": [],
   "source": [
    "#5 Write a Python program to guess a number between 1 to 9"
   ]
  },
  {
   "cell_type": "code",
   "execution_count": 1,
   "id": "718b5342",
   "metadata": {},
   "outputs": [
    {
     "name": "stdout",
     "output_type": "stream",
     "text": [
      "Guess the number:1\n",
      "try again\n",
      "Guess the number:8\n",
      "try again\n",
      "Guess the number:4\n",
      "try again\n",
      "Guess the number:2\n",
      "try again\n",
      "Guess the number:1\n",
      "try again\n",
      "Guess the number:3\n",
      "try again\n",
      "Guess the number:5\n",
      "try again\n",
      "Guess the number:6\n",
      "try again\n",
      "Guess the number:7\n",
      "Well guessed!\n"
     ]
    }
   ],
   "source": [
    "while True:\n",
    "    num1=int(input(\"Guess the number:\"))\n",
    "    if num1==7:\n",
    "        print(\"Well guessed!\")\n",
    "        break\n",
    "    else:\n",
    "        print(\"try again\")"
   ]
  },
  {
   "cell_type": "code",
   "execution_count": 3,
   "id": "574bab62",
   "metadata": {},
   "outputs": [],
   "source": [
    "# 6 Write a Python program which iterates the integers from 1 to 60. For multiples of three print \"Fizz\" instead of the\n",
    "#number and for the multiples of five print \"Buzz\". For numbers which are multiples of both three and five print \n",
    "#\"FizzBuzz\"."
   ]
  },
  {
   "cell_type": "code",
   "execution_count": 4,
   "id": "9d384a65",
   "metadata": {},
   "outputs": [
    {
     "name": "stdout",
     "output_type": "stream",
     "text": [
      "1\n",
      "2\n",
      "Fizz\n",
      "4\n",
      "Buzz\n",
      "Fizz\n",
      "7\n",
      "8\n",
      "Fizz\n",
      "Buzz\n",
      "11\n",
      "Fizz\n",
      "13\n",
      "14\n",
      "FizzBuzz\n",
      "16\n",
      "17\n",
      "Fizz\n",
      "19\n",
      "Buzz\n",
      "Fizz\n",
      "22\n",
      "23\n",
      "Fizz\n",
      "Buzz\n",
      "26\n",
      "Fizz\n",
      "28\n",
      "29\n",
      "FizzBuzz\n",
      "31\n",
      "32\n",
      "Fizz\n",
      "34\n",
      "Buzz\n",
      "Fizz\n",
      "37\n",
      "38\n",
      "Fizz\n",
      "Buzz\n",
      "41\n",
      "Fizz\n",
      "43\n",
      "44\n",
      "FizzBuzz\n",
      "46\n",
      "47\n",
      "Fizz\n",
      "49\n",
      "Buzz\n",
      "Fizz\n",
      "52\n",
      "53\n",
      "Fizz\n",
      "Buzz\n",
      "56\n",
      "Fizz\n",
      "58\n",
      "59\n",
      "FizzBuzz\n"
     ]
    }
   ],
   "source": [
    "for i in range(1,61):\n",
    "    if i%3==0 and i%5==0:\n",
    "        print(\"FizzBuzz\")\n",
    "    elif i%3==0:\n",
    "        print(\"Fizz\")\n",
    "    elif i%5==0:\n",
    "        print(\"Buzz\")\n",
    "    else:\n",
    "        print(i)"
   ]
  },
  {
   "cell_type": "code",
   "execution_count": 5,
   "id": "886ad53a",
   "metadata": {},
   "outputs": [],
   "source": [
    "# 7 Write a Python program that accepts a string and calculate the number of digits and letters\n"
   ]
  },
  {
   "cell_type": "code",
   "execution_count": 7,
   "id": "2493ad79",
   "metadata": {},
   "outputs": [
    {
     "name": "stdout",
     "output_type": "stream",
     "text": [
      "Enter a string:Deepu23\n",
      "Letters 5\n",
      "Digits 2\n"
     ]
    }
   ],
   "source": [
    "str1=input(\"Enter a string:\")\n",
    "Letters=0\n",
    "Digits=0\n",
    "for i in str1:\n",
    "    if i.isalpha()==True:\n",
    "        Letters=Letters+1\n",
    "    if i.isdigit()==True:\n",
    "        Digits=Digits+1\n",
    "    else:\n",
    "        continue\n",
    "print(\"Letters\",Letters)\n",
    "print(\"Digits\",Digits)"
   ]
  },
  {
   "cell_type": "code",
   "execution_count": 8,
   "id": "0ea69f1b",
   "metadata": {},
   "outputs": [],
   "source": [
    "# 8 Write a Python program to check the validity of password input by users. "
   ]
  },
  {
   "cell_type": "code",
   "execution_count": 23,
   "id": "931a23ab",
   "metadata": {},
   "outputs": [
    {
     "name": "stdout",
     "output_type": "stream",
     "text": [
      "Enter your password:MunnaMuzziMunaaf@1Forever\n",
      "Your password must contain At least 1 letter between [a-z] and 1 letter between [A-Z].\n",
      "        At least 1 number between [0-9].\n",
      "        At least 1 character from [$#@].\n",
      "        Minimum length 6 characters.\n",
      "        Maximum length 16 characters.\n",
      "Maximum length exceeded\n"
     ]
    }
   ],
   "source": [
    "str1=input(\"Enter your password:\")\n",
    "small=[]\n",
    "capital=[]\n",
    "print(\"\"\"Your password must contain At least 1 letter between [a-z] and 1 letter between [A-Z].\n",
    "        At least 1 number between [0-9].\n",
    "        At least 1 character from [$#@].\n",
    "        Minimum length 6 characters.\n",
    "        Maximum length 16 characters.\"\"\")\n",
    "cs=0\n",
    "cc=0\n",
    "cd=0\n",
    "csc=0\n",
    "for i in range(97,123):\n",
    "    small.append(chr(i))\n",
    "for i in range(65,92):\n",
    "    capital.append(chr(i))\n",
    "if len(str1)>=6 and len(str1)<=16:\n",
    "    for i in str1:\n",
    "        if i in small:\n",
    "            cs=cs+1\n",
    "        elif i in capital:\n",
    "            cc=cc+1\n",
    "        elif i in [\"0\",\"1\",\"2\",\"3\",\"4\",\"5\",\"6\",\"7\",\"8\",\"9\"]:\n",
    "            cd=cd+1\n",
    "        elif i in [\"$\",\"#\",\"@\"]:\n",
    "            csc=csc+1\n",
    "    if cs>=1 and cc>=1 and cd>=1 and csc>=1:\n",
    "        print(\"Password is Valid\")\n",
    "    else:\n",
    "        if cs<1:\n",
    "            print(\"Your password must contain a small letter\")\n",
    "        elif cc<1:\n",
    "            print(\"Your password must contain a capital letter\")\n",
    "        elif cd<1:\n",
    "            print(\"Your password must contain a digit\")\n",
    "        else:\n",
    "            print(\"Your password must contain any of $,#,@\")\n",
    "else:\n",
    "    if len(str1)<6:\n",
    "        print(\"Your password must contain minimum length of 6 characters\")\n",
    "    else:\n",
    "        print(\"Maximum length exceeded\")"
   ]
  },
  {
   "cell_type": "code",
   "execution_count": 14,
   "id": "b788b13e",
   "metadata": {},
   "outputs": [],
   "source": [
    "#9 Write a program in Python to reverse a word by using while loop"
   ]
  },
  {
   "cell_type": "code",
   "execution_count": 18,
   "id": "605b69d6",
   "metadata": {},
   "outputs": [
    {
     "name": "stdout",
     "output_type": "stream",
     "text": [
      "Enter a string:Krishna\n",
      "anhsirK\n"
     ]
    }
   ],
   "source": [
    "str1=input(\"Enter a string:\")\n",
    "length=len(str1)\n",
    "reverse=\"\"\n",
    "i=-1\n",
    "while i>=(-length):\n",
    "    reverse=reverse+str1[i]\n",
    "    i=i-1\n",
    "print(reverse)"
   ]
  },
  {
   "cell_type": "code",
   "execution_count": 19,
   "id": "709fc219",
   "metadata": {},
   "outputs": [],
   "source": [
    "# 10 Write a program which takes 10 integers as input using loop and print their average value on the screen"
   ]
  },
  {
   "cell_type": "code",
   "execution_count": 21,
   "id": "1d369247",
   "metadata": {},
   "outputs": [
    {
     "name": "stdout",
     "output_type": "stream",
     "text": [
      "Enter a number:1\n",
      "Enter a number:2\n",
      "Enter a number:3\n",
      "Enter a number:4\n",
      "Enter a number:5\n",
      "Enter a number:6\n",
      "Enter a number:7\n",
      "Enter a number:8\n",
      "Enter a number:9\n",
      "Enter a number:10\n",
      "Average of given numbers= 5.5\n"
     ]
    }
   ],
   "source": [
    "numbers=[]\n",
    "for i in range(10):\n",
    "    num=int(input(\"Enter a number:\"))\n",
    "    numbers.append(num)\n",
    "sum=0\n",
    "for i in numbers:\n",
    "    sum=sum+i\n",
    "avg=sum/10\n",
    "print(\"Average of given numbers=\",avg)"
   ]
  },
  {
   "cell_type": "code",
   "execution_count": 22,
   "id": "15b96478",
   "metadata": {},
   "outputs": [],
   "source": [
    "# 11 Write a program which takes integer inputs from user until he/she presses “q” (Ask to press q to quit after every integer \n",
    "#input). Print average and product of all numbers."
   ]
  },
  {
   "cell_type": "code",
   "execution_count": 25,
   "id": "bfe13b57",
   "metadata": {},
   "outputs": [
    {
     "name": "stdout",
     "output_type": "stream",
     "text": [
      "Enter any character if you wanna start or press q to stop inputs:r\n",
      "Enter a number:1\n",
      "Enter any character if you wanna start or press q to stop inputs:s\n",
      "Enter a number:2\n",
      "Enter any character if you wanna start or press q to stop inputs:t\n",
      "Enter a number:3\n",
      "Enter any character if you wanna start or press q to stop inputs:u\n",
      "Enter a number:4\n",
      "Enter any character if you wanna start or press q to stop inputs:v\n",
      "Enter a number:5\n",
      "Enter any character if you wanna start or press q to stop inputs:w\n",
      "Enter a number:6\n",
      "Enter any character if you wanna start or press q to stop inputs:x\n",
      "Enter a number:7\n",
      "Enter any character if you wanna start or press q to stop inputs:y\n",
      "Enter a number:8\n",
      "Enter any character if you wanna start or press q to stop inputs:z\n",
      "Enter a number:9\n",
      "Enter any character if you wanna start or press q to stop inputs:q\n",
      "Average of given numbers: 5.0\n",
      "Product of given numbers: 362880\n"
     ]
    }
   ],
   "source": [
    "numbers=[]\n",
    "sum=0\n",
    "product=1\n",
    "char=input(\"Enter any character if you wanna start or press q to stop inputs:\")\n",
    "while True:\n",
    "    if char.lower()==\"q\":\n",
    "        break\n",
    "    else:\n",
    "        num=int(input(\"Enter a number:\"))\n",
    "        numbers.append(num)\n",
    "        char=input(\"Enter any character if you wanna start or press q to stop inputs:\")\n",
    "length=len(numbers)\n",
    "for i in numbers:\n",
    "    sum=sum+i\n",
    "    product=product*i\n",
    "print(\"Average of given numbers:\",sum/length)\n",
    "print(\"Product of given numbers:\",product)"
   ]
  },
  {
   "cell_type": "markdown",
   "id": "2938bdd7",
   "metadata": {},
   "source": []
  },
  {
   "cell_type": "code",
   "execution_count": 26,
   "id": "a800700f",
   "metadata": {},
   "outputs": [],
   "source": [
    "#12 Write a Python program which will remove all digits or any other characters from the string except alphabets"
   ]
  },
  {
   "cell_type": "code",
   "execution_count": 27,
   "id": "e141e683",
   "metadata": {},
   "outputs": [
    {
     "name": "stdout",
     "output_type": "stream",
     "text": [
      "Enter a string:asd12.asd22\n",
      "asdasd\n"
     ]
    }
   ],
   "source": [
    "str1=input(\"Enter a string:\")\n",
    "str2=\"\"\n",
    "for i in str1:\n",
    "    if i.isalpha():\n",
    "        str2=str2+i\n",
    "    else:\n",
    "        continue\n",
    "print(str2)"
   ]
  },
  {
   "cell_type": "code",
   "execution_count": 28,
   "id": "7a6ef79b",
   "metadata": {},
   "outputs": [],
   "source": [
    "# 13 Write a python program to find the sum of all even numbers from 0 to 10"
   ]
  },
  {
   "cell_type": "code",
   "execution_count": 29,
   "id": "da53b2be",
   "metadata": {},
   "outputs": [
    {
     "name": "stdout",
     "output_type": "stream",
     "text": [
      "Sum of even numbers: 30\n"
     ]
    }
   ],
   "source": [
    "sum=0\n",
    "for i in range(11):\n",
    "    if i%2==0:\n",
    "        sum=sum+i\n",
    "print(\"Sum of even numbers:\",sum)"
   ]
  },
  {
   "cell_type": "code",
   "execution_count": 30,
   "id": "29d85706",
   "metadata": {},
   "outputs": [],
   "source": [
    "# 14 Write a python program which will accept a digit and print All the numbers before it till 0"
   ]
  },
  {
   "cell_type": "code",
   "execution_count": 33,
   "id": "72397344",
   "metadata": {},
   "outputs": [
    {
     "name": "stdout",
     "output_type": "stream",
     "text": [
      "Enter a number:6\n",
      "5\n",
      "4\n",
      "3\n",
      "2\n",
      "1\n",
      "0\n"
     ]
    }
   ],
   "source": [
    "num1=int(input(\"Enter a number:\"))\n",
    "for i in range(num1-1,-1,-1):\n",
    "    print(i)"
   ]
  },
  {
   "cell_type": "code",
   "execution_count": 34,
   "id": "d0e1caff",
   "metadata": {},
   "outputs": [],
   "source": [
    "# 15 Create a dynamic calculator which will run continually till you press “c\""
   ]
  },
  {
   "cell_type": "code",
   "execution_count": 35,
   "id": "9056e4ec",
   "metadata": {},
   "outputs": [
    {
     "name": "stdout",
     "output_type": "stream",
     "text": [
      "Enter a character rather than q if you wanna start calculator:q\n",
      "Type first number:1\n",
      "Type any of these +,-,*,/,%,** :+\n",
      "Type second number:2\n",
      "1+2=3\n",
      "Enter c if you wanna quit:w\n",
      "Type first number:1\n",
      "Type any of these +,-,*,/,%,** :-\n",
      "Type second number:2\n",
      "1-2=-1\n",
      "Enter c if you wanna quit:e\n",
      "Type first number:1\n",
      "Type any of these +,-,*,/,%,** :*\n",
      "Type second number:2\n",
      "1*2=2\n",
      "Enter c if you wanna quit:d\n",
      "Type first number:1\n",
      "Type any of these +,-,*,/,%,** :/\n",
      "Type second number:3\n",
      "1/3=0.3333333333333333\n",
      "Enter c if you wanna quit:g\n",
      "Type first number:1\n",
      "Type any of these +,-,*,/,%,** :%\n",
      "Type second number:2\n",
      "1%2=1\n",
      "Enter c if you wanna quit:u\n",
      "Type first number:1\n",
      "Type any of these +,-,*,/,%,** :**\n",
      "Type second number:2\n",
      "1**2=1\n",
      "Enter c if you wanna quit:c\n"
     ]
    }
   ],
   "source": [
    "char=input(\"Enter a character rather than q if you wanna start calculator:\")\n",
    "while True:\n",
    "    if char.lower()==\"c\":\n",
    "        break\n",
    "    else:\n",
    "        num1=int(input(\"Type first number:\"))\n",
    "        symbol=input(\"Type any of these +,-,*,/,%,** :\")\n",
    "        num2=int(input(\"Type second number:\"))\n",
    "        if symbol==\"+\":\n",
    "            print(\"{}+{}={}\".format(num1,num2,num1+num2))\n",
    "        elif symbol==\"-\":\n",
    "            print(\"{}-{}={}\".format(num1,num2,num1-num2))\n",
    "        elif symbol==\"*\":\n",
    "            print(\"{}*{}={}\".format(num1,num2,num1*num2))\n",
    "        elif symbol==\"/\":\n",
    "            print(\"{}/{}={}\".format(num1,num2,num1/num2))\n",
    "        elif symbol==\"%\":\n",
    "            print(\"{}%{}={}\".format(num1,num2,num1%num2))\n",
    "        elif symbol==\"**\":\n",
    "            print(\"{}**{}={}\".format(num1,num2,num1**num2))\n",
    "        else:\n",
    "            print(\"Go and check the symbol please\")\n",
    "        char=input(\"Enter c if you wanna quit:\")"
   ]
  },
  {
   "cell_type": "code",
   "execution_count": null,
   "id": "0888fe5a",
   "metadata": {},
   "outputs": [],
   "source": []
  }
 ],
 "metadata": {
  "kernelspec": {
   "display_name": "Python 3 (ipykernel)",
   "language": "python",
   "name": "python3"
  },
  "language_info": {
   "codemirror_mode": {
    "name": "ipython",
    "version": 3
   },
   "file_extension": ".py",
   "mimetype": "text/x-python",
   "name": "python",
   "nbconvert_exporter": "python",
   "pygments_lexer": "ipython3",
   "version": "3.11.3"
  }
 },
 "nbformat": 4,
 "nbformat_minor": 5
}
