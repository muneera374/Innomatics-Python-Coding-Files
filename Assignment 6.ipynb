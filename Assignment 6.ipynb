{
 "cells": [
  {
   "cell_type": "code",
   "execution_count": 1,
   "id": "2eebf5ac",
   "metadata": {},
   "outputs": [],
   "source": [
    "#1 Define a function which will return Max of three numbers "
   ]
  },
  {
   "cell_type": "code",
   "execution_count": 77,
   "id": "98b810cf",
   "metadata": {},
   "outputs": [],
   "source": [
    "def max1(num1=3,num2=9,num3=5):\n",
    "    \"To return maximum number of 3 numbers\"\n",
    "    if num1>num2 and num1>num3:\n",
    "        print(\"{} is greater than {} and {}\".format(num1,num2,num3))\n",
    "        return num1\n",
    "    elif num2>num3:\n",
    "        print(\"{} is greater than {} and {}\".format(num2,num1,num3))\n",
    "        return num2\n",
    "    else:\n",
    "        print(\"{} is greater than {} and {}\".format(num3,num1,num2))\n",
    "        return num3"
   ]
  },
  {
   "cell_type": "code",
   "execution_count": 2,
   "id": "fb2bbdc3",
   "metadata": {},
   "outputs": [
    {
     "name": "stdout",
     "output_type": "stream",
     "text": [
      "23 is greater than 10 and 19\n"
     ]
    },
    {
     "data": {
      "text/plain": [
       "23"
      ]
     },
     "execution_count": 2,
     "metadata": {},
     "output_type": "execute_result"
    }
   ],
   "source": [
    "max1(10,19,23)"
   ]
  },
  {
   "cell_type": "code",
   "execution_count": 3,
   "id": "3c24f4da",
   "metadata": {},
   "outputs": [
    {
     "name": "stdout",
     "output_type": "stream",
     "text": [
      "26 is greater than 10 and 20\n"
     ]
    },
    {
     "data": {
      "text/plain": [
       "26"
      ]
     },
     "execution_count": 3,
     "metadata": {},
     "output_type": "execute_result"
    }
   ],
   "source": [
    "max1(10,26,20)"
   ]
  },
  {
   "cell_type": "code",
   "execution_count": 4,
   "id": "ed9ddeaa",
   "metadata": {},
   "outputs": [
    {
     "name": "stdout",
     "output_type": "stream",
     "text": [
      "9 is greater than 3 and 5\n"
     ]
    },
    {
     "data": {
      "text/plain": [
       "9"
      ]
     },
     "execution_count": 4,
     "metadata": {},
     "output_type": "execute_result"
    }
   ],
   "source": [
    "max1()"
   ]
  },
  {
   "cell_type": "code",
   "execution_count": 37,
   "id": "ef8f483a",
   "metadata": {},
   "outputs": [],
   "source": [
    "#2 Define a Python Function to reverse a string.\n"
   ]
  },
  {
   "cell_type": "code",
   "execution_count": 78,
   "id": "90b0c67a",
   "metadata": {},
   "outputs": [],
   "source": [
    "def reverse(var1=\"Innomatics\"):\n",
    "    \"To return reverse of given string\"\n",
    "    rev=\"\"\n",
    "    for i in range(1,len(var1)+1):\n",
    "        print(i)\n",
    "        rev=rev+var1[-i]\n",
    "    print(\"Original string:\",var1)\n",
    "    print(\"Reverse of given string:\",rev)\n",
    "    return rev"
   ]
  },
  {
   "cell_type": "code",
   "execution_count": 16,
   "id": "e6d939f3",
   "metadata": {},
   "outputs": [
    {
     "name": "stdout",
     "output_type": "stream",
     "text": [
      "1\n",
      "2\n",
      "3\n",
      "Original string: Mom\n",
      "Reverse of given string: moM\n"
     ]
    },
    {
     "data": {
      "text/plain": [
       "'moM'"
      ]
     },
     "execution_count": 16,
     "metadata": {},
     "output_type": "execute_result"
    }
   ],
   "source": [
    "reverse(\"Mom\")"
   ]
  },
  {
   "cell_type": "code",
   "execution_count": 38,
   "id": "9d95994e",
   "metadata": {},
   "outputs": [],
   "source": [
    "# 3 Write a Python program to define a function that accepts 2 values and return its sum, subtraction and multiplication."
   ]
  },
  {
   "cell_type": "code",
   "execution_count": 79,
   "id": "74b718f4",
   "metadata": {},
   "outputs": [],
   "source": [
    "def calc(num1=10,num2=20):\n",
    "    \"To return sum,subtraction and multiplication of given 2 numbers\"\n",
    "    sum1=num1+num2\n",
    "    sub=num1-num2\n",
    "    mul=num1+num2\n",
    "    print(\"sum=\",end=\" \")\n",
    "    yield sum1\n",
    "    print(\"mul=\",end=\" \")\n",
    "    yield mul\n",
    "    print(\"sub=\",end=\" \")\n",
    "    yield sub"
   ]
  },
  {
   "cell_type": "code",
   "execution_count": 22,
   "id": "6165d25c",
   "metadata": {},
   "outputs": [],
   "source": [
    "var1=calc(10,7)"
   ]
  },
  {
   "cell_type": "code",
   "execution_count": 23,
   "id": "44660f55",
   "metadata": {},
   "outputs": [
    {
     "name": "stdout",
     "output_type": "stream",
     "text": [
      "sum= "
     ]
    },
    {
     "data": {
      "text/plain": [
       "17"
      ]
     },
     "execution_count": 23,
     "metadata": {},
     "output_type": "execute_result"
    }
   ],
   "source": [
    "next(var1)"
   ]
  },
  {
   "cell_type": "code",
   "execution_count": 24,
   "id": "6ce8e2a1",
   "metadata": {},
   "outputs": [
    {
     "name": "stdout",
     "output_type": "stream",
     "text": [
      "mul= "
     ]
    },
    {
     "data": {
      "text/plain": [
       "17"
      ]
     },
     "execution_count": 24,
     "metadata": {},
     "output_type": "execute_result"
    }
   ],
   "source": [
    "next(var1)"
   ]
  },
  {
   "cell_type": "code",
   "execution_count": 25,
   "id": "9ea56c22",
   "metadata": {},
   "outputs": [
    {
     "name": "stdout",
     "output_type": "stream",
     "text": [
      "sub= "
     ]
    },
    {
     "data": {
      "text/plain": [
       "3"
      ]
     },
     "execution_count": 25,
     "metadata": {},
     "output_type": "execute_result"
    }
   ],
   "source": [
    "next(var1)"
   ]
  },
  {
   "cell_type": "code",
   "execution_count": null,
   "id": "6db6d71f",
   "metadata": {},
   "outputs": [],
   "source": [
    "# 4 Define a function that accepts roll number and returns whether the student is present or absent."
   ]
  },
  {
   "cell_type": "code",
   "execution_count": 80,
   "id": "ed250225",
   "metadata": {},
   "outputs": [],
   "source": [
    "def Attendance(roll=0):\n",
    "    \"To return whether the given student is present or not in given class\"\n",
    "    if roll==0:\n",
    "        print(\"Please enter roll when you are calling this function\")\n",
    "    else:\n",
    "        stu_list=[]\n",
    "        length=int(input(\"Enter number of students present in the class:\"))\n",
    "        for i in range(length):\n",
    "            stu_pre_roll=int(input(\"Enter roll number of students present in the class:\"))\n",
    "            if stu_pre_roll in stu_list:\n",
    "                print(\"Student is already counted,please check once and give another roll\")\n",
    "                stu_pre_roll=int(input(\"Enter roll number of students present in the class:\"))\n",
    "            stu_list.insert(i,stu_pre_roll)\n",
    "        print(\"Students rolls present in the class:\",stu_list)\n",
    "        if roll in stu_list:\n",
    "            print(\"Yes,This student is present in class\")\n",
    "            return True\n",
    "        else:\n",
    "            print(\"No,this student is absent\")\n",
    "            return False"
   ]
  },
  {
   "cell_type": "code",
   "execution_count": 29,
   "id": "d10344ab",
   "metadata": {},
   "outputs": [
    {
     "name": "stdout",
     "output_type": "stream",
     "text": [
      "Enter number of students present in the class:6\n",
      "Enter roll number of students present in the class:1\n",
      "Enter roll number of students present in the class:1\n",
      "Student is already counted,please check once and give another roll\n",
      "Enter roll number of students present in the class:2\n",
      "Enter roll number of students present in the class:3\n",
      "Enter roll number of students present in the class:4\n",
      "Enter roll number of students present in the class:5\n",
      "Enter roll number of students present in the class:6\n",
      "Students rolls present in the class: [1, 2, 3, 4, 5, 6]\n",
      "No,this student is absent\n"
     ]
    },
    {
     "data": {
      "text/plain": [
       "False"
      ]
     },
     "execution_count": 29,
     "metadata": {},
     "output_type": "execute_result"
    }
   ],
   "source": [
    "Attendance(12)"
   ]
  },
  {
   "cell_type": "code",
   "execution_count": 39,
   "id": "54f95aa9",
   "metadata": {},
   "outputs": [],
   "source": [
    "# 5 Define a function in python that accepts n values and returns the maximum of n numbers"
   ]
  },
  {
   "cell_type": "code",
   "execution_count": 81,
   "id": "30df345a",
   "metadata": {},
   "outputs": [],
   "source": [
    "def var(*g):\n",
    "    \"To return maximum of n numbers\"\n",
    "    sort=sorted(g)\n",
    "    print(\"Maximum number from given numbbers:\",sort[-1])\n",
    "    return sort[-1]"
   ]
  },
  {
   "cell_type": "code",
   "execution_count": 36,
   "id": "83f35cc5",
   "metadata": {},
   "outputs": [
    {
     "name": "stdout",
     "output_type": "stream",
     "text": [
      "Maximum number from given numbbers: 1000\n"
     ]
    },
    {
     "data": {
      "text/plain": [
       "1000"
      ]
     },
     "execution_count": 36,
     "metadata": {},
     "output_type": "execute_result"
    }
   ],
   "source": [
    "var(1000,67,28,94,38)"
   ]
  },
  {
   "cell_type": "code",
   "execution_count": 40,
   "id": "8823e932",
   "metadata": {},
   "outputs": [],
   "source": [
    "# 6 Define a function which counts vowels and consonant in a word. \n"
   ]
  },
  {
   "cell_type": "code",
   "execution_count": 82,
   "id": "ac069ca8",
   "metadata": {},
   "outputs": [],
   "source": [
    "def count_v_co(str1=\"Innomatics\"):\n",
    "    \"To return count of vowels,consonants and special characters\"\n",
    "    vowels=0\n",
    "    consonants=0\n",
    "    spec_char=0\n",
    "    str2=str1.lower()\n",
    "    for i in str2:\n",
    "        if i in [\"a\",\"e\",\"i\",\"o\",\"u\"]:\n",
    "            vowels=vowels+1\n",
    "        elif i in [\"b\",\"c\",\"d\",\"f\",\"g\",\"h\",\"j\",\"k\",\"l\",\"m\",\"n\",\"p\",\"q\",\"r\",\"s\",\"t\",\"v\",\"w\",\"x\",\"y\",\"z\"]:\n",
    "            consonants=consonants+1\n",
    "        else:\n",
    "            continue\n",
    "    print(\"Vowels in given string:\",vowels)\n",
    "    print(\"Consonants in given string:\",consonants)\n",
    "    yield vowels\n",
    "    yield consonants"
   ]
  },
  {
   "cell_type": "code",
   "execution_count": 55,
   "id": "d75c0a8f",
   "metadata": {},
   "outputs": [],
   "source": [
    "var1=count_v_co()"
   ]
  },
  {
   "cell_type": "code",
   "execution_count": 56,
   "id": "4787441f",
   "metadata": {},
   "outputs": [
    {
     "name": "stdout",
     "output_type": "stream",
     "text": [
      "Vowels in given string: 4\n",
      "Consonants in given string: 6\n"
     ]
    },
    {
     "data": {
      "text/plain": [
       "4"
      ]
     },
     "execution_count": 56,
     "metadata": {},
     "output_type": "execute_result"
    }
   ],
   "source": [
    "next(var1)"
   ]
  },
  {
   "cell_type": "code",
   "execution_count": 57,
   "id": "482d9ecb",
   "metadata": {},
   "outputs": [],
   "source": [
    "# 7 Define a function that returns Factorial of a number"
   ]
  },
  {
   "cell_type": "code",
   "execution_count": 83,
   "id": "abd4e547",
   "metadata": {},
   "outputs": [],
   "source": [
    "def fact(num1=5):\n",
    "    \"To return factorial of a given number\"\n",
    "    factorial=1\n",
    "    for i in range(2,num1+1):\n",
    "        factorial=factorial*i\n",
    "    print(\"Factorial of a given number:\",factorial)\n",
    "    return factorial\n"
   ]
  },
  {
   "cell_type": "code",
   "execution_count": 59,
   "id": "2bc411fa",
   "metadata": {},
   "outputs": [
    {
     "name": "stdout",
     "output_type": "stream",
     "text": [
      "Factorial of a given number: 720\n"
     ]
    },
    {
     "data": {
      "text/plain": [
       "720"
      ]
     },
     "execution_count": 59,
     "metadata": {},
     "output_type": "execute_result"
    }
   ],
   "source": [
    "fact(6)"
   ]
  },
  {
   "cell_type": "code",
   "execution_count": 60,
   "id": "3cb21e4f",
   "metadata": {},
   "outputs": [],
   "source": [
    "# 8 Define a function that accepts radius and returns the area of a circle."
   ]
  },
  {
   "cell_type": "code",
   "execution_count": 84,
   "id": "37e9db82",
   "metadata": {},
   "outputs": [],
   "source": [
    "def area_of_circle(radius=1):\n",
    "    \"To return area of circle with given radius\"\n",
    "    area=(22/7)*(radius**2)\n",
    "    print(\"Area of circle:\",area)\n",
    "    return area"
   ]
  },
  {
   "cell_type": "code",
   "execution_count": 62,
   "id": "c2c1dbb5",
   "metadata": {},
   "outputs": [
    {
     "name": "stdout",
     "output_type": "stream",
     "text": [
      "Area of circle: 12.571428571428571\n"
     ]
    },
    {
     "data": {
      "text/plain": [
       "12.571428571428571"
      ]
     },
     "execution_count": 62,
     "metadata": {},
     "output_type": "execute_result"
    }
   ],
   "source": [
    "area_of_circle(2)"
   ]
  },
  {
   "cell_type": "code",
   "execution_count": 63,
   "id": "c3b75801",
   "metadata": {},
   "outputs": [],
   "source": [
    "# 9 Define a function that takes a number as a parameter and check the number is prime or not.\n"
   ]
  },
  {
   "cell_type": "code",
   "execution_count": 85,
   "id": "de5347ba",
   "metadata": {},
   "outputs": [],
   "source": [
    "def check_prime(var1=2):\n",
    "    \"To check whether the given number is prime or not\"\n",
    "    count=0\n",
    "    if var1==1:\n",
    "        print(\"It is neither prime nor complex\")\n",
    "    else:\n",
    "        for i in range(2,var1):\n",
    "            if var1%i==0:\n",
    "                count=count+1\n",
    "        if count==0:\n",
    "            print(\"Given number is prime\")\n",
    "            return var1\n",
    "        else:\n",
    "            print(\"The number is not prime\")"
   ]
  },
  {
   "cell_type": "code",
   "execution_count": 68,
   "id": "62191151",
   "metadata": {},
   "outputs": [
    {
     "name": "stdout",
     "output_type": "stream",
     "text": [
      "The number is not prime\n"
     ]
    }
   ],
   "source": [
    "check_prime(80)"
   ]
  },
  {
   "cell_type": "code",
   "execution_count": 69,
   "id": "fc2049d5",
   "metadata": {},
   "outputs": [],
   "source": [
    "# 10 Mary wants to run a 25-mile marathon. When she attempts to sign up for the marathon, she notices the sign-up sheet doesn't \n",
    "#directly state the marathon's length. Instead, the marathon's length is listed in small, different portions.\n",
    "#Help Mary find out how long the marathon actually is. So create a function that \n",
    "#** Return True if the marathon is 25 miles long, otherwise, return False."
   ]
  },
  {
   "cell_type": "code",
   "execution_count": 86,
   "id": "f2c7c805",
   "metadata": {},
   "outputs": [],
   "source": [
    "def marathon(*miles):\n",
    "    \"To check total miles of marathon is 25 or not for mary\"\n",
    "    total=0\n",
    "    if miles==():\n",
    "        print(\"False\")\n",
    "    else:\n",
    "        for i in miles:\n",
    "            if i>=0:\n",
    "                total=total+i\n",
    "            else:\n",
    "                total=total+(-(i))\n",
    "        if total==25:\n",
    "            print(\"True\")\n",
    "            return True\n",
    "        else:\n",
    "            print(\"False\")\n",
    "            return False"
   ]
  },
  {
   "cell_type": "code",
   "execution_count": 76,
   "id": "8fb2da38",
   "metadata": {},
   "outputs": [
    {
     "name": "stdout",
     "output_type": "stream",
     "text": [
      "True\n"
     ]
    },
    {
     "data": {
      "text/plain": [
       "True"
      ]
     },
     "execution_count": 76,
     "metadata": {},
     "output_type": "execute_result"
    }
   ],
   "source": [
    "marathon(1,2,3,4,5,10)"
   ]
  },
  {
   "cell_type": "code",
   "execution_count": 87,
   "id": "98aaad63",
   "metadata": {},
   "outputs": [],
   "source": [
    "# 11 Create a function that takes a number and returns True if the number is automorphic, False if it isn't."
   ]
  },
  {
   "cell_type": "code",
   "execution_count": 92,
   "id": "5c25145b",
   "metadata": {},
   "outputs": [],
   "source": [
    "def automorphic(num1=5):\n",
    "    \"To check whether the given number is automorphic(square of the number is ends with the same number) or not\"\n",
    "    am=num1**2\n",
    "    if am%10==num1:\n",
    "        print(\"Yes {} is automorphic\".format(num1))\n",
    "        return num1\n",
    "    else:\n",
    "        print(\"The number is not automorphic\")"
   ]
  },
  {
   "cell_type": "code",
   "execution_count": 89,
   "id": "95fc1a01",
   "metadata": {},
   "outputs": [
    {
     "name": "stdout",
     "output_type": "stream",
     "text": [
      "Yes 5 is automorphic\n"
     ]
    },
    {
     "data": {
      "text/plain": [
       "5"
      ]
     },
     "execution_count": 89,
     "metadata": {},
     "output_type": "execute_result"
    }
   ],
   "source": [
    "automorphic()"
   ]
  },
  {
   "cell_type": "code",
   "execution_count": 90,
   "id": "277640ab",
   "metadata": {},
   "outputs": [
    {
     "name": "stdout",
     "output_type": "stream",
     "text": [
      "Yes 6 is automorphic\n"
     ]
    },
    {
     "data": {
      "text/plain": [
       "6"
      ]
     },
     "execution_count": 90,
     "metadata": {},
     "output_type": "execute_result"
    }
   ],
   "source": [
    "automorphic(6)"
   ]
  },
  {
   "cell_type": "code",
   "execution_count": 91,
   "id": "f875e987",
   "metadata": {},
   "outputs": [
    {
     "name": "stdout",
     "output_type": "stream",
     "text": [
      "The number is not automorphic\n"
     ]
    }
   ],
   "source": [
    "automorphic(3)"
   ]
  },
  {
   "cell_type": "code",
   "execution_count": 93,
   "id": "c9d652c9",
   "metadata": {},
   "outputs": [],
   "source": [
    "# 12 Create a function, that will take given a, b, c, and do the following: \n",
    "#Add a to itself b times and Check if the result is divisible by c.and return true if it is divisible by c or false\n"
   ]
  },
  {
   "cell_type": "code",
   "execution_count": 132,
   "id": "0e09a41f",
   "metadata": {},
   "outputs": [],
   "source": [
    "def f1(a=1,b=2,c=2):\n",
    "    \"To add a itself b times and check if the result is divisible by c or not\"\n",
    "    a1=0\n",
    "    for i in range(b):\n",
    "        a1=a1+a\n",
    "    print(a1)\n",
    "    if a1==b and a1%c==0:\n",
    "        print(\"True\")\n",
    "        return True\n",
    "    else:\n",
    "        print(\"False\")"
   ]
  },
  {
   "cell_type": "code",
   "execution_count": 133,
   "id": "07a0c409",
   "metadata": {},
   "outputs": [
    {
     "name": "stdout",
     "output_type": "stream",
     "text": [
      "2\n",
      "True\n"
     ]
    },
    {
     "data": {
      "text/plain": [
       "True"
      ]
     },
     "execution_count": 133,
     "metadata": {},
     "output_type": "execute_result"
    }
   ],
   "source": [
    "f1()"
   ]
  },
  {
   "cell_type": "code",
   "execution_count": 101,
   "id": "b9965e29",
   "metadata": {},
   "outputs": [],
   "source": [
    "# 13  Create a function that changes specific words into emoticons. \n",
    "#Given a sentence as a string, replace the words smile, grin, sad and mad with their corresponding emoticons.\n"
   ]
  },
  {
   "cell_type": "code",
   "execution_count": 134,
   "id": "fd7f8e81",
   "metadata": {},
   "outputs": [],
   "source": [
    "def f2(str1=\"smile\"):\n",
    "    \"To convert a list of words into emotions like smile into :D like that\"\n",
    "    word_emotions={\"smile\":\":D\",\"grin\":\":)\",\"sad\":\":(\",\"mad\":\":P\"}\n",
    "    list_words=str1.split()\n",
    "    for i in list_words:\n",
    "        if i.lower() in word_emotions:\n",
    "            str2=str1.replace(i,word_emotions[i])\n",
    "    print(str2)"
   ]
  },
  {
   "cell_type": "code",
   "execution_count": 107,
   "id": "83c2bc49",
   "metadata": {},
   "outputs": [
    {
     "name": "stdout",
     "output_type": "stream",
     "text": [
      "Make me :D\n"
     ]
    }
   ],
   "source": [
    "f2(\"Make me smile\")"
   ]
  },
  {
   "cell_type": "code",
   "execution_count": 108,
   "id": "b8f7adb0",
   "metadata": {},
   "outputs": [
    {
     "name": "stdout",
     "output_type": "stream",
     "text": [
      "Make me :)\n"
     ]
    }
   ],
   "source": [
    "f2(\"Make me grin\")"
   ]
  },
  {
   "cell_type": "code",
   "execution_count": 109,
   "id": "878a77e4",
   "metadata": {},
   "outputs": [
    {
     "name": "stdout",
     "output_type": "stream",
     "text": [
      "Make me :(\n"
     ]
    }
   ],
   "source": [
    "f2(\"Make me sad\")"
   ]
  },
  {
   "cell_type": "code",
   "execution_count": 110,
   "id": "15e66350",
   "metadata": {},
   "outputs": [
    {
     "name": "stdout",
     "output_type": "stream",
     "text": [
      "Makes me :P\n"
     ]
    }
   ],
   "source": [
    "f2(\"Makes me mad\")"
   ]
  },
  {
   "cell_type": "code",
   "execution_count": 137,
   "id": "26422ce5",
   "metadata": {},
   "outputs": [],
   "source": [
    "# 14 Write a Python program to square and cube every number in a given list of integers using Lambda"
   ]
  },
  {
   "cell_type": "code",
   "execution_count": 135,
   "id": "5c52a210",
   "metadata": {},
   "outputs": [],
   "source": [
    "def squa_cube(*tup_of_num):\n",
    "    \"To return squares and cubes of numbers present in a collection data type except dictionary\"\n",
    "    square=list(map(lambda x:x**2,tup_of_num))\n",
    "    cube=list(map(lambda x:x**3,tup_of_num))\n",
    "    print(\"Square numbers of given list:\")\n",
    "    yield square\n",
    "    print(\"Cube numbers of given list:\")\n",
    "    yield cube"
   ]
  },
  {
   "cell_type": "code",
   "execution_count": 113,
   "id": "313550ce",
   "metadata": {},
   "outputs": [],
   "source": [
    "var1=squa_cube(1,2,3,4,5,6)"
   ]
  },
  {
   "cell_type": "code",
   "execution_count": 114,
   "id": "39a090a1",
   "metadata": {},
   "outputs": [
    {
     "name": "stdout",
     "output_type": "stream",
     "text": [
      "Square numbers of given list:\n"
     ]
    },
    {
     "data": {
      "text/plain": [
       "[1, 4, 9, 16, 25, 36]"
      ]
     },
     "execution_count": 114,
     "metadata": {},
     "output_type": "execute_result"
    }
   ],
   "source": [
    "next(var1)"
   ]
  },
  {
   "cell_type": "code",
   "execution_count": 115,
   "id": "d8c9df75",
   "metadata": {},
   "outputs": [
    {
     "name": "stdout",
     "output_type": "stream",
     "text": [
      "Cube numbers of given list:\n"
     ]
    },
    {
     "data": {
      "text/plain": [
       "[1, 8, 27, 64, 125, 216]"
      ]
     },
     "execution_count": 115,
     "metadata": {},
     "output_type": "execute_result"
    }
   ],
   "source": [
    "next(var1)"
   ]
  },
  {
   "cell_type": "code",
   "execution_count": 116,
   "id": "11ed06af",
   "metadata": {},
   "outputs": [],
   "source": [
    "# 15 Write a Python program to check whether a given string is number or not using Lambda"
   ]
  },
  {
   "cell_type": "code",
   "execution_count": 136,
   "id": "68ad1311",
   "metadata": {},
   "outputs": [],
   "source": [
    "def str_num(str1=\"100098\"):\n",
    "    \"To check whether the given string is number or not\"\n",
    "    return str1.isdigit()"
   ]
  },
  {
   "cell_type": "code",
   "execution_count": 120,
   "id": "ee36b36c",
   "metadata": {},
   "outputs": [
    {
     "data": {
      "text/plain": [
       "False"
      ]
     },
     "execution_count": 120,
     "metadata": {},
     "output_type": "execute_result"
    }
   ],
   "source": [
    "str_num(\"Munna\")"
   ]
  },
  {
   "cell_type": "code",
   "execution_count": 122,
   "id": "66a63da9",
   "metadata": {},
   "outputs": [
    {
     "data": {
      "text/plain": [
       "True"
      ]
     },
     "execution_count": 122,
     "metadata": {},
     "output_type": "execute_result"
    }
   ],
   "source": [
    "str_num(\"167890\")"
   ]
  },
  {
   "cell_type": "code",
   "execution_count": null,
   "id": "f8e0ca79",
   "metadata": {},
   "outputs": [],
   "source": []
  }
 ],
 "metadata": {
  "kernelspec": {
   "display_name": "Python 3 (ipykernel)",
   "language": "python",
   "name": "python3"
  },
  "language_info": {
   "codemirror_mode": {
    "name": "ipython",
    "version": 3
   },
   "file_extension": ".py",
   "mimetype": "text/x-python",
   "name": "python",
   "nbconvert_exporter": "python",
   "pygments_lexer": "ipython3",
   "version": "3.11.3"
  }
 },
 "nbformat": 4,
 "nbformat_minor": 5
}
