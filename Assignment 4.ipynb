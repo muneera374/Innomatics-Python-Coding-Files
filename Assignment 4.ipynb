{
 "cells": [
  {
   "cell_type": "code",
   "execution_count": 1,
   "id": "accbb751",
   "metadata": {},
   "outputs": [],
   "source": [
    "#1 Write a Python program to loop through all the elements in a list"
   ]
  },
  {
   "cell_type": "code",
   "execution_count": 49,
   "id": "a863ca9c",
   "metadata": {},
   "outputs": [
    {
     "name": "stdout",
     "output_type": "stream",
     "text": [
      "Enter length of the list:6\n",
      "Enter datatype of element you want int,float,complex,str:int\n",
      "Enter a number:1\n",
      "Enter datatype of element you want int,float,complex,str:float\n",
      "Enter a float number:1.11\n",
      "Enter datatype of element you want int,float,complex,str:complex\n",
      "Enter a complex number:2+4j\n",
      "Enter datatype of element you want int,float,complex,str:str\n",
      "Enter a string:Application\n",
      "Enter datatype of element you want int,float,complex,str:float\n",
      "Enter a float number:2.99\n",
      "Enter datatype of element you want int,float,complex,str:complex\n",
      "Enter a complex number:7+2j\n",
      "1\n",
      "1.11\n",
      "(2+4j)\n",
      "Application\n",
      "2.99\n",
      "(7+2j)\n"
     ]
    }
   ],
   "source": [
    "l=[]\n",
    "length=int(input(\"Enter length of the list:\"))\n",
    "for i in range(length):\n",
    "    data_type=input(\"Enter datatype of element you want int,float,complex,str:\")\n",
    "    if data_type.lower()==\"int\":\n",
    "        var=int(input(\"Enter a number:\"))\n",
    "    elif data_type.lower()==\"float\":\n",
    "        var=float(input(\"Enter a float number:\"))\n",
    "    elif data_type.lower()==\"complex\":\n",
    "        var=complex(input(\"Enter a complex number:\"))\n",
    "    elif data_type.lower()==\"str\":\n",
    "        var=input(\"Enter a string:\")\n",
    "    else:\n",
    "        print(\"can you enter a datatype from above 4\")\n",
    "    l.append(var)\n",
    "for i in l:\n",
    "    print(i)"
   ]
  },
  {
   "cell_type": "code",
   "execution_count": 3,
   "id": "11d2528d",
   "metadata": {},
   "outputs": [],
   "source": [
    "# 2 Write a Python program where you will ask the users to insert elements in a list"
   ]
  },
  {
   "cell_type": "code",
   "execution_count": 50,
   "id": "6b53674b",
   "metadata": {},
   "outputs": [
    {
     "name": "stdout",
     "output_type": "stream",
     "text": [
      "Enter length of the list:4\n",
      "Enter datatype of element you want int,float,complex,str:int\n",
      "Enter a number:1\n",
      "Enter datatype of element you want int,float,complex,str:float\n",
      "Enter a float number:1.22\n",
      "Enter datatype of element you want int,float,complex,str:complex\n",
      "Enter a complex number:1+8j\n",
      "Enter datatype of element you want int,float,complex,str:str\n",
      "Enter a string:Ballerina\n",
      "[1, 1.22, (1+8j), 'Ballerina']\n"
     ]
    }
   ],
   "source": [
    "l=[]\n",
    "length=int(input(\"Enter length of the list:\"))\n",
    "for i in range(length):\n",
    "    data_type=input(\"Enter datatype of element you want int,float,complex,str:\")\n",
    "    if data_type.lower()==\"int\":\n",
    "        var=int(input(\"Enter a number:\"))\n",
    "    elif data_type.lower()==\"float\":\n",
    "        var=float(input(\"Enter a float number:\"))\n",
    "    elif data_type.lower()==\"complex\":\n",
    "        var=complex(input(\"Enter a complex number:\"))\n",
    "    elif data_type.lower()==\"str\":\n",
    "        var=input(\"Enter a string:\")\n",
    "    else:\n",
    "        print(\"can you enter a datatype from above 4\")\n",
    "    l.insert(i,var)\n",
    "print(l)"
   ]
  },
  {
   "cell_type": "code",
   "execution_count": 5,
   "id": "e5f867d6",
   "metadata": {},
   "outputs": [],
   "source": [
    "# 3 Write a Python program to remove all the odd index value from a list and only even index elements should remain"
   ]
  },
  {
   "cell_type": "code",
   "execution_count": 51,
   "id": "f5789e28",
   "metadata": {},
   "outputs": [
    {
     "name": "stdout",
     "output_type": "stream",
     "text": [
      "Enter length of the list:4\n",
      "Enter datatype of element you want int,float,complex,str:int\n",
      "Enter a number:1\n",
      "Enter datatype of element you want int,float,complex,str:float\n",
      "Enter a float number:1.22\n",
      "Enter datatype of element you want int,float,complex,str:complex\n",
      "Enter a complex number:3+7j\n",
      "Enter datatype of element you want int,float,complex,str:str\n",
      "Enter a string:Camera\n",
      "[1, (3+7j)]\n",
      "Enter length of the list:4\n",
      "Enter datatype of element you want int,float,complex,str:int\n",
      "Enter a number:1\n",
      "Enter datatype of element you want int,float,complex,str:float\n",
      "Enter a float number:1.22\n",
      "Enter datatype of element you want int,float,complex,str:complex\n",
      "Enter a complex number:3+7j\n",
      "Enter datatype of element you want int,float,complex,str:str\n",
      "Enter a string:Camera\n",
      "[1, 1.22, (3+7j), 'Camera']\n",
      "[1, (3+7j)]\n"
     ]
    }
   ],
   "source": [
    "l=[]\n",
    "length=int(input(\"Enter length of the list:\"))\n",
    "for i in range(length):\n",
    "    data_type=input(\"Enter datatype of element you want int,float,complex,str:\")\n",
    "    if data_type.lower()==\"int\":\n",
    "        var=int(input(\"Enter a number:\"))\n",
    "    elif data_type.lower()==\"float\":\n",
    "        var=float(input(\"Enter a float number:\"))\n",
    "    elif data_type.lower()==\"complex\":\n",
    "        var=complex(input(\"Enter a complex number:\"))\n",
    "    elif data_type.lower()==\"str\":\n",
    "        var=input(\"Enter a string:\")\n",
    "    else:\n",
    "        print(\"can you enter a datatype from above 4\")\n",
    "    l.insert(i,var)\n",
    "for i in range(1,(len(l)//2)+1):\n",
    "    l.pop(i)\n",
    "print(l)\n",
    "# Another method\n",
    "l=[]\n",
    "length=int(input(\"Enter length of the list:\"))\n",
    "for i in range(length):\n",
    "    data_type=input(\"Enter datatype of element you want int,float,complex,str:\")\n",
    "    if data_type.lower()==\"int\":\n",
    "        var=int(input(\"Enter a number:\"))\n",
    "    elif data_type.lower()==\"float\":\n",
    "        var=float(input(\"Enter a float number:\"))\n",
    "    elif data_type.lower()==\"complex\":\n",
    "        var=complex(input(\"Enter a complex number:\"))\n",
    "    elif data_type.lower()==\"str\":\n",
    "        var=input(\"Enter a string:\")\n",
    "    else:\n",
    "        print(\"can you enter a datatype from above 4\")\n",
    "    l.insert(i,var)\n",
    "print(l)\n",
    "l1=l.copy()\n",
    "for i in range(length):\n",
    "    if i%2!=0:\n",
    "        l1.remove(l[i])\n",
    "print(l1)"
   ]
  },
  {
   "cell_type": "markdown",
   "id": "005ffef2",
   "metadata": {},
   "source": [
    "## "
   ]
  },
  {
   "cell_type": "code",
   "execution_count": null,
   "id": "c85cf8cc",
   "metadata": {},
   "outputs": [],
   "source": [
    "# 4 Write a Python program to sum and multiply all the items in a list"
   ]
  },
  {
   "cell_type": "code",
   "execution_count": 2,
   "id": "98877d4e",
   "metadata": {},
   "outputs": [
    {
     "name": "stdout",
     "output_type": "stream",
     "text": [
      "Enter length of the list:4\n",
      "Enter a number:1\n",
      "Enter a number:2\n",
      "Enter a number:3\n",
      "Enter a number:4\n",
      "[1, 2, 3, 4]\n",
      "Sum: 10\n",
      "Product: 24\n"
     ]
    }
   ],
   "source": [
    "l=[]\n",
    "length=int(input(\"Enter length of the list:\"))\n",
    "for i in range(length):\n",
    "    var=int(input(\"Enter a number:\"))\n",
    "    l.append(var)\n",
    "print(l)\n",
    "sum=0\n",
    "product=1\n",
    "for i in l:\n",
    "    sum=sum+i\n",
    "    product=product*i\n",
    "print(\"Sum:\",sum)\n",
    "print(\"Product:\",product)"
   ]
  },
  {
   "cell_type": "code",
   "execution_count": 3,
   "id": "0da5074b",
   "metadata": {},
   "outputs": [],
   "source": [
    "# 5 Write a Python program to get the maximum and minimum numbers from a list"
   ]
  },
  {
   "cell_type": "code",
   "execution_count": 8,
   "id": "9ebf7757",
   "metadata": {},
   "outputs": [
    {
     "name": "stdout",
     "output_type": "stream",
     "text": [
      "Enter length of the list:5\n",
      "Enter a number:1\n",
      "Enter a number:0\n",
      "Enter a number:8\n",
      "Enter a number:7\n",
      "Enter a number:3\n",
      "[1, 0, 8, 7, 3]\n",
      "Minimum: 0\n",
      "Maximum: 8\n"
     ]
    }
   ],
   "source": [
    "l=[]\n",
    "length=int(input(\"Enter length of the list:\"))\n",
    "for i in range(length):\n",
    "    var=int(input(\"Enter a number:\"))\n",
    "    l.append(var)\n",
    "print(l)\n",
    "l.sort()\n",
    "print(\"Minimum:\",l[0])\n",
    "print(\"Maximum:\",l[-1])"
   ]
  },
  {
   "cell_type": "code",
   "execution_count": 9,
   "id": "1073aee1",
   "metadata": {},
   "outputs": [],
   "source": [
    "# 6 Write a Python program to print a specified list after removing the 0th, 4th and 5th elements"
   ]
  },
  {
   "cell_type": "code",
   "execution_count": 52,
   "id": "70ee8f03",
   "metadata": {},
   "outputs": [
    {
     "name": "stdout",
     "output_type": "stream",
     "text": [
      "Enter length of the list:6\n",
      "Enter datatype of element you want int,float,complex,str:int\n",
      "Enter a number:1\n",
      "Enter datatype of element you want int,float,complex,str:float\n",
      "Enter a float number:1.11\n",
      "Enter datatype of element you want int,float,complex,str:complex\n",
      "Enter a complex number:1+8j\n",
      "Enter datatype of element you want int,float,complex,str:str\n",
      "Enter a string:DumDum\n",
      "Enter datatype of element you want int,float,complex,str:int\n",
      "Enter a number:1\n",
      "Enter datatype of element you want int,float,complex,str:str\n",
      "Enter a string:Emuntra\n",
      "[1.11, (1+8j), 'DumDum']\n"
     ]
    }
   ],
   "source": [
    "l=[]\n",
    "length=int(input(\"Enter length of the list:\"))\n",
    "for i in range(length):\n",
    "    data_type=input(\"Enter datatype of element you want int,float,complex,str:\")\n",
    "    if data_type.lower()==\"int\":\n",
    "        var=int(input(\"Enter a number:\"))\n",
    "    elif data_type.lower()==\"float\":\n",
    "        var=float(input(\"Enter a float number:\"))\n",
    "    elif data_type.lower()==\"complex\":\n",
    "        var=complex(input(\"Enter a complex number:\"))\n",
    "    elif data_type.lower()==\"str\":\n",
    "        var=input(\"Enter a string:\")\n",
    "    else:\n",
    "        print(\"can you enter a datatype from above 4\")\n",
    "    l.insert(i,var)\n",
    "l1=l.copy()\n",
    "for j in range(length):\n",
    "    if j==0 or j==4 or j==5:\n",
    "        l.remove(l1[j])\n",
    "print(l)"
   ]
  },
  {
   "cell_type": "raw",
   "id": "3f914436",
   "metadata": {},
   "source": []
  },
  {
   "cell_type": "code",
   "execution_count": 29,
   "id": "1306f985",
   "metadata": {},
   "outputs": [],
   "source": [
    "# 7 Write a Python program to convert a list of characters into a string"
   ]
  },
  {
   "cell_type": "code",
   "execution_count": 37,
   "id": "d3ba683f",
   "metadata": {},
   "outputs": [
    {
     "name": "stdout",
     "output_type": "stream",
     "text": [
      "Enter length of the list:4\n",
      "Enter datatype of element you want int,float,complex,str:int\n",
      "Enter a number:1\n",
      "Enter datatype of element you want int,float,complex,str:float\n",
      "Enter a float number:2.22\n",
      "Enter datatype of element you want int,float,complex,str:complex\n",
      "Enter a complex number:4+5j\n",
      "Enter datatype of element you want int,float,complex,str:str\n",
      "Enter a string:Munna\n",
      "String of all elements: 1 2.22 (4+5j) Munna \n"
     ]
    }
   ],
   "source": [
    "l=[]\n",
    "length=int(input(\"Enter length of the list:\"))\n",
    "for i in range(length):\n",
    "    data_type=input(\"Enter datatype of element you want int,float,complex,str:\")\n",
    "    if data_type.lower()==\"int\":\n",
    "        var=int(input(\"Enter a number:\"))\n",
    "    elif data_type.lower()==\"float\":\n",
    "        var=float(input(\"Enter a float number:\"))\n",
    "    elif data_type.lower()==\"complex\":\n",
    "        var=complex(input(\"Enter a complex number:\"))\n",
    "    elif data_type.lower()==\"str\":\n",
    "        var=input(\"Enter a string:\")\n",
    "    else:\n",
    "        print(\"can you enter a datatype from above 4\")\n",
    "    l.append(var)\n",
    "str1=\"\"\n",
    "for i in l:\n",
    "    da_ty=type(i)\n",
    "    if da_ty==str:\n",
    "        str1=str1+i+\" \"\n",
    "    else:\n",
    "        str1=str1+str(i)+\" \"\n",
    "print(\"String of all elements:\",str1)"
   ]
  },
  {
   "cell_type": "code",
   "execution_count": 38,
   "id": "d46616b5",
   "metadata": {},
   "outputs": [],
   "source": [
    "# 8 Write a Python program to compute average of given lists."
   ]
  },
  {
   "cell_type": "code",
   "execution_count": 39,
   "id": "8483cf10",
   "metadata": {},
   "outputs": [
    {
     "name": "stdout",
     "output_type": "stream",
     "text": [
      "Enter length of the list:5\n",
      "Enter a number:1\n",
      "Enter a number:2\n",
      "Enter a number:3\n",
      "Enter a number:4\n",
      "Enter a number:5\n",
      "[1, 2, 3, 4, 5]\n",
      "Average of the given list: 3.0\n"
     ]
    }
   ],
   "source": [
    "l=[]\n",
    "length=int(input(\"Enter length of the list:\"))\n",
    "for i in range(length):\n",
    "    var=int(input(\"Enter a number:\"))\n",
    "    l.append(var)\n",
    "print(l)\n",
    "sum=0\n",
    "for i in l:\n",
    "    sum=sum+i\n",
    "print(\"Average of the given list:\",sum/length)"
   ]
  },
  {
   "cell_type": "code",
   "execution_count": 40,
   "id": "7565afab",
   "metadata": {},
   "outputs": [],
   "source": [
    "# 9 Write a Python program to count integer in a given mixed list.\n"
   ]
  },
  {
   "cell_type": "code",
   "execution_count": 42,
   "id": "f9e2604e",
   "metadata": {},
   "outputs": [
    {
     "name": "stdout",
     "output_type": "stream",
     "text": [
      "Enter length of the list:5\n",
      "Enter datatype of element you want int,float,complex,str:int\n",
      "Enter a number:1\n",
      "Enter datatype of element you want int,float,complex,str:float\n",
      "Enter a float number:2.22\n",
      "Enter datatype of element you want int,float,complex,str:complex\n",
      "Enter a complex number:4+1j\n",
      "Enter datatype of element you want int,float,complex,str:str\n",
      "Enter a string:Munna\n",
      "Enter datatype of element you want int,float,complex,str:str\n",
      "Enter a string:Muzzi\n",
      "Count of Numeric Data in the given list: 3\n"
     ]
    }
   ],
   "source": [
    "l=[]\n",
    "length=int(input(\"Enter length of the list:\"))\n",
    "for i in range(length):\n",
    "    data_type=input(\"Enter datatype of element you want int,float,complex,str:\")\n",
    "    if data_type.lower()==\"int\":\n",
    "        var=int(input(\"Enter a number:\"))\n",
    "    elif data_type.lower()==\"float\":\n",
    "        var=float(input(\"Enter a float number:\"))\n",
    "    elif data_type.lower()==\"complex\":\n",
    "        var=complex(input(\"Enter a complex number:\"))\n",
    "    elif data_type.lower()==\"str\":\n",
    "        var=input(\"Enter a string:\")\n",
    "    else:\n",
    "        print(\"can you enter a datatype from above 4\")\n",
    "    l.append(var)\n",
    "count=0\n",
    "for i in l:\n",
    "    da_ty=type(i)\n",
    "    if da_ty==int or da_ty==float or da_ty==complex:\n",
    "        count=count+1\n",
    "print(\"Count of Numeric Data in the given list:\",count)"
   ]
  },
  {
   "cell_type": "code",
   "execution_count": null,
   "id": "f18e3ec2",
   "metadata": {},
   "outputs": [],
   "source": [
    "# 10 Write a Python program to reverse the list "
   ]
  },
  {
   "cell_type": "code",
   "execution_count": 44,
   "id": "92b17635",
   "metadata": {},
   "outputs": [
    {
     "name": "stdout",
     "output_type": "stream",
     "text": [
      "Enter length of the list:5\n",
      "Enter datatype of element you want int,float,complex,str:int\n",
      "Enter a number:1\n",
      "Enter datatype of element you want int,float,complex,str:float\n",
      "Enter a float number:1.11\n",
      "Enter datatype of element you want int,float,complex,str:complex\n",
      "Enter a complex number:2+9j\n",
      "Enter datatype of element you want int,float,complex,str:str\n",
      "Enter a string:Munna\n",
      "Enter datatype of element you want int,float,complex,str:str\n",
      "Enter a string:Muzzi\n",
      "Original list: [1, 1.11, (2+9j), 'Munna', 'Muzzi']\n",
      "Reverse list ['Muzzi', 'Munna', (2+9j), 1.11, 1]\n"
     ]
    }
   ],
   "source": [
    "l=[]\n",
    "reverse=[]\n",
    "length=int(input(\"Enter length of the list:\"))\n",
    "for i in range(length):\n",
    "    data_type=input(\"Enter datatype of element you want int,float,complex,str:\")\n",
    "    if data_type.lower()==\"int\":\n",
    "        var=int(input(\"Enter a number:\"))\n",
    "    elif data_type.lower()==\"float\":\n",
    "        var=float(input(\"Enter a float number:\"))\n",
    "    elif data_type.lower()==\"complex\":\n",
    "        var=complex(input(\"Enter a complex number:\"))\n",
    "    elif data_type.lower()==\"str\":\n",
    "        var=input(\"Enter a string:\")\n",
    "    else:\n",
    "        print(\"can you enter a datatype from above 4\")\n",
    "    l.append(var)\n",
    "for i in range(length-1,-1,-1):\n",
    "    reverse.append(l[i])\n",
    "print(\"Original list:\",l)\n",
    "print(\"Reverse list\",reverse)"
   ]
  },
  {
   "cell_type": "code",
   "execution_count": 45,
   "id": "d1f3fbd4",
   "metadata": {},
   "outputs": [],
   "source": [
    "# 11 Write a Python program convert a given string to a tuple"
   ]
  },
  {
   "cell_type": "code",
   "execution_count": 48,
   "id": "341c6f6a",
   "metadata": {},
   "outputs": [
    {
     "name": "stdout",
     "output_type": "stream",
     "text": [
      "Enter a string:Munna\n",
      "('M', 'u', 'n', 'n', 'a')\n"
     ]
    }
   ],
   "source": [
    "str1=input(\"Enter a string:\")\n",
    "tuple1=tuple(str1)\n",
    "print(tuple1)"
   ]
  },
  {
   "cell_type": "code",
   "execution_count": null,
   "id": "57ce0ee0",
   "metadata": {},
   "outputs": [],
   "source": []
  }
 ],
 "metadata": {
  "kernelspec": {
   "display_name": "Python 3 (ipykernel)",
   "language": "python",
   "name": "python3"
  },
  "language_info": {
   "codemirror_mode": {
    "name": "ipython",
    "version": 3
   },
   "file_extension": ".py",
   "mimetype": "text/x-python",
   "name": "python",
   "nbconvert_exporter": "python",
   "pygments_lexer": "ipython3",
   "version": "3.11.3"
  }
 },
 "nbformat": 4,
 "nbformat_minor": 5
}
